{
  "cells": [
    {
      "cell_type": "markdown",
      "metadata": {
        "id": "xkD46W9C4wyt"
      },
      "source": [
        "# Drive Linking\n",
        "Linking Google Drive to Colab to enable loading data from the cloud."
      ]
    },
    {
      "cell_type": "code",
      "execution_count": null,
      "metadata": {
        "colab": {
          "base_uri": "https://localhost:8080/"
        },
        "id": "f4l4gYxq4hvD",
        "outputId": "c55e0104-906e-4bda-81a2-a66b580492f8"
      },
      "outputs": [
        {
          "output_type": "stream",
          "name": "stdout",
          "text": [
            "Mounted at /content/drive\n"
          ]
        }
      ],
      "source": [
        "from google.colab import drive                                                  # Import the Google Colab Drive module\n",
        "\n",
        "drive.mount('/content/drive')                                                   # Base address of the drive"
      ]
    },
    {
      "cell_type": "markdown",
      "metadata": {
        "id": "o24JpwueTm7J"
      },
      "source": [
        "# Library Import\n",
        "Importing all necessary libraries and modules."
      ]
    },
    {
      "cell_type": "code",
      "execution_count": null,
      "metadata": {
        "id": "I6wFd3h6TbTh"
      },
      "outputs": [],
      "source": [
        "# Modules for operating system and file management\n",
        "import os                                                   # To interact with the operating system, manage files and directories\n",
        "import shutil                                               # For high-level file operations, such as copying and removing files and directories\n",
        "import sys                                                  # To access specific operating system features, such as command-line arguments and program exit\n",
        "\n",
        "# Modules for time management and performance measurement\n",
        "import time                                                 # For time management, useful for measuring performance and durations\n",
        "\n",
        "# Modules for copying and random operations\n",
        "import copy                                                 # To create shallow and deep copies of objects\n",
        "import random                                               # To generate random numbers and perform operations related to randomness\n",
        "from random import shuffle                                  # To shuffle elements in a list\n",
        "\n",
        "# Modules for regular expression operations\n",
        "import re                                                   # For operations with regular expressions\n",
        "\n",
        "# Modules for scientific computation and data analysis\n",
        "import scipy.io as sio                                      # For working with MATLAB files, especially for reading and writing .mat files\n",
        "import pandas as pd                                         # For data manipulation and analysis, particularly useful for handling tabular datasets\n",
        "import numpy as np                                          # For scientific computation, support for multidimensional arrays and mathematical functions\n",
        "\n",
        "# Modules for data visualization\n",
        "import matplotlib.pyplot as plt                             # For data visualization and plotting\n",
        "from tqdm import tqdm                                       # For displaying progress bars for loops\n",
        "\n",
        "# Modules for deep learning and computer vision with PyTorch\n",
        "import torch                                                # Fundamental library for deep learning, support for tensors and GPU operations\n",
        "import torch.nn as nn                                       # For building neural networks\n",
        "import torch.optim as optim                                 # For various optimization algorithms\n",
        "from torch.optim import lr_scheduler                        # For adjusting the learning rate during training\n",
        "from torch.utils.data import DataLoader, Dataset            # For managing and loading datasets\n",
        "from torchsummary import summary                            # To get a summary of PyTorch neural networks\n",
        "import torchvision                                          # PyTorch library specific to computer vision, includes datasets, pretrained models, and data transformations\n",
        "from torchvision import datasets, models, transforms       # torchvision modules for managing datasets, pretrained models, and data transformations\n",
        "\n",
        "# Modules for dataset splitting\n",
        "from sklearn.model_selection import StratifiedShuffleSplit  # To perform dataset splitting while maintaining class distribution"
      ]
    },
    {
      "cell_type": "markdown",
      "metadata": {
        "id": "Mu9qDOUQVXAx"
      },
      "source": [
        "# Check Device\n",
        "Checking the availability of Google GPUs."
      ]
    },
    {
      "cell_type": "code",
      "source": [
        "# Set the device for running the model on GPU if available, otherwise use the CPU\n",
        "device = torch.device(\"cuda:0\" if torch.cuda.is_available() else \"cpu\")"
      ],
      "metadata": {
        "id": "HbuZtEBqPRjR"
      },
      "execution_count": null,
      "outputs": []
    },
    {
      "cell_type": "code",
      "execution_count": null,
      "metadata": {
        "colab": {
          "base_uri": "https://localhost:8080/"
        },
        "id": "NuGozF8RVa3p",
        "outputId": "6664e143-8998-4875-a6ef-d22ea1379bd7"
      },
      "outputs": [
        {
          "output_type": "stream",
          "name": "stdout",
          "text": [
            "Version: 2.3.0+cu121\n",
            "Avaible?: True\n",
            "Device: Tesla T4\n",
            "Run GPU?: cuda:0\n"
          ]
        }
      ],
      "source": [
        "print(\"Version: \" + str(torch.__version__))\n",
        "print(\"Avaible?: \" + str(torch.cuda.is_available()))\n",
        "print(\"Device: \" + str(torch.cuda.get_device_name(0)))\n",
        "print(\"Run GPU?: \" + str(device))"
      ]
    },
    {
      "cell_type": "markdown",
      "metadata": {
        "id": "-ahKqZ-Kyfc1"
      },
      "source": [
        "# Options\n",
        "Setting the randomness in PyTorch and NumPy, ensuring reproducible results during training."
      ]
    },
    {
      "cell_type": "code",
      "execution_count": null,
      "metadata": {
        "id": "-KUyVhs4ybQu"
      },
      "outputs": [],
      "source": [
        "torch.manual_seed(0)\n",
        "np.random.seed(0)\n",
        "torch.backends.cudnn.deterministic = True\n",
        "torch.backends.cudnn.benchmark = False"
      ]
    },
    {
      "cell_type": "markdown",
      "metadata": {
        "id": "FxcwDV5sUl1i"
      },
      "source": [
        "# Path\n",
        "Paths to content on Google Drive."
      ]
    },
    {
      "cell_type": "code",
      "execution_count": null,
      "metadata": {
        "id": "W5etl6LNT1Ix"
      },
      "outputs": [],
      "source": [
        "DATA_PATH = '/content/drive/MyDrive/ML/Minicontest3/Dataset'\n",
        "DATASET_PATH = '/content/drive/MyDrive/ML/Minicontest3/Dataset/dataset'\n",
        "TRAIN_PATH = '/content/drive/MyDrive/ML/Minicontest3/Dataset/train'\n",
        "VAL_PATH = '/content/drive/MyDrive/ML/Minicontest3/Dataset/val'\n",
        "TEST_PATH = '/content/drive/MyDrive/ML/Minicontest3/Dataset/test'\n",
        "CULTURE_PATH = '/content/drive/MyDrive/ML/Minicontest3/Dataset/culture'\n",
        "WEIGHTS_PATH = '/content/drive/MyDrive/ML/Minicontest3/Weights'\n",
        "FINAL_WEIGHTS_PATH = '/content/drive/MyDrive/ML/Minicontest3/Weights/Final_Weights'"
      ]
    },
    {
      "cell_type": "markdown",
      "metadata": {
        "id": "eVRyLlv4UE62"
      },
      "source": [
        "# Bacterial Culture Search\n",
        "Searching for bacterial culture images within the dataset. These images were identified due to their significantly larger sizes compared to other `.npy` files. The culture images are being removed as they are deemed to lack relevant informative content for neural network training."
      ]
    },
    {
      "cell_type": "code",
      "execution_count": null,
      "metadata": {
        "id": "YdHqDXubUETg"
      },
      "outputs": [],
      "source": [
        "def move_large_files(base_path, destination_folder, size_threshold_mb=10):\n",
        "    \"\"\"\n",
        "    Traverses through folders and moves files larger than size_threshold_mb to a new folder.\n",
        "\n",
        "    Parameters:\n",
        "    base_path (str): The path of the main folder.\n",
        "    destination_folder (str): Path of the destination folder for large files.\n",
        "    size_threshold_mb (int): The size in MB above which files are moved. Default is 10MB.\n",
        "    \"\"\"\n",
        "    # Ensure the destination folder exists\n",
        "    if not os.path.exists(destination_folder):\n",
        "        os.makedirs(destination_folder)\n",
        "\n",
        "    size_threshold_bytes = size_threshold_mb * 1024 * 1024                      # Convert MB to bytes\n",
        "\n",
        "    for root, dirs, files in os.walk(base_path):\n",
        "        for file in files:\n",
        "            file_path = os.path.join(root, file)\n",
        "            file_size = os.path.getsize(file_path)\n",
        "\n",
        "            if file_size > size_threshold_bytes:\n",
        "                # Create destination path\n",
        "                relative_path = os.path.relpath(root, base_path)\n",
        "                destination_path = os.path.join(destination_folder, relative_path)\n",
        "\n",
        "                if not os.path.exists(destination_path):\n",
        "                    os.makedirs(destination_path)\n",
        "\n",
        "                # Move the file\n",
        "                shutil.move(file_path, os.path.join(destination_path, file))\n",
        "                print(f\"Moved '{file_path}' to '{os.path.join(destination_path, file)}'\")"
      ]
    },
    {
      "cell_type": "code",
      "source": [
        "def display_images_from_folder(folder_path):\n",
        "    \"\"\"\n",
        "    Displays all numpy images in a folder and its subfolders.\n",
        "\n",
        "    Parameters:\n",
        "    folder_path (str): The path of the folder containing numpy images.\n",
        "    \"\"\"\n",
        "    # Numpy file extensions\n",
        "    npy_extension = '.npy'\n",
        "\n",
        "    # Iterate through all directories and subdirectories\n",
        "    for root, _, files in os.walk(folder_path):\n",
        "        # Filter files for numpy extension\n",
        "        npy_files = [f for f in files if f.lower().endswith(npy_extension)]\n",
        "\n",
        "        # Display each numpy file\n",
        "        for npy_file in npy_files:\n",
        "            npy_path = os.path.join(root, npy_file)\n",
        "            try:\n",
        "                image = np.load(npy_path)                                       # Load the numpy file\n",
        "                plt.imshow(image)\n",
        "                plt.title(npy_file)\n",
        "                plt.axis('off')                                                 # Disable axes\n",
        "                plt.show()\n",
        "            except Exception as e:\n",
        "                print(f\"Error opening {npy_file} in {root}: {e}\")"
      ],
      "metadata": {
        "id": "NJ4TvCoe6phx"
      },
      "execution_count": null,
      "outputs": []
    },
    {
      "cell_type": "code",
      "execution_count": null,
      "metadata": {
        "id": "7eS4C6d6URpq"
      },
      "outputs": [],
      "source": [
        "move_large_files(DATASET_PATH, CULTURE_PATH)\n",
        "display_images_from_folder(CULTURE_PATH)"
      ]
    },
    {
      "cell_type": "markdown",
      "source": [
        "# Data Exploration\n",
        "Visualization of various dataset data, useful for subsequent sections and to identify the best splitting. Particularly, the presence of imbalance between the two classes, benign and malignant, has also been analyzed."
      ],
      "metadata": {
        "id": "C38u4Yht8M5Q"
      }
    },
    {
      "cell_type": "code",
      "source": [
        "def count_dir_elements(path):\n",
        "    \"\"\"\n",
        "    Counts the number of elements (files and directories) in each subfolder of a specified directory.\n",
        "\n",
        "    Parameters:\n",
        "    path (str): The path of the main directory.\n",
        "\n",
        "    Returns:\n",
        "    dict: A dictionary with subfolder paths as keys and the number of elements in each subfolder as values.\n",
        "    \"\"\"\n",
        "    elements_in_dir = {}\n",
        "    for root, dirs, files in os.walk(path):\n",
        "        if root == path:\n",
        "            continue                                                            # Skip the main directory\n",
        "        n_elements = len(dirs) + len(files)\n",
        "        elements_in_dir[root] = n_elements\n",
        "    return elements_in_dir"
      ],
      "metadata": {
        "id": "1kYMonaX8PSA"
      },
      "execution_count": null,
      "outputs": []
    },
    {
      "cell_type": "code",
      "source": [
        "def build_element_matrix(base_path):\n",
        "    \"\"\"\n",
        "    Builds a matrix representing the number of elements in the first 40 subfolders of the 'benign' and 'malignant' categories.\n",
        "\n",
        "    Parameters:\n",
        "    base_path (str): The path of the main directory.\n",
        "\n",
        "    Returns:\n",
        "    tuple: A matrix with the number of elements in the subfolders and a list of subfolder paths.\n",
        "    \"\"\"\n",
        "    dirs = ['benign', 'malignant']\n",
        "    n_columns = 40\n",
        "    matrix = np.zeros((2, n_columns), dtype=int)\n",
        "\n",
        "    for i, dir_name in enumerate(dirs):\n",
        "        current_path = os.path.join(base_path, dir_name)\n",
        "        elements_in_dir = count_dir_elements(current_path)\n",
        "        sub_dirs = list(elements_in_dir.keys())[:n_columns]\n",
        "\n",
        "        for j, sub_dir in enumerate(sub_dirs):\n",
        "            matrix[i, j] = elements_in_dir[sub_dir]\n",
        "\n",
        "    return matrix"
      ],
      "metadata": {
        "id": "YFLpICpE9V_r"
      },
      "execution_count": null,
      "outputs": []
    },
    {
      "cell_type": "code",
      "source": [
        "# Build the result matrix and get the subfolder paths\n",
        "result_matrix = build_element_matrix(DATASET_PATH)\n",
        "\n",
        "m, n = result_matrix.shape\n",
        "total_elements = np.sum(result_matrix)\n",
        "num_benign = np.sum(result_matrix[0, :])\n",
        "num_malignant = np.sum(result_matrix[1, :])\n",
        "ratio = num_benign / num_malignant\n",
        "\n",
        "print(\"Total elements:\", total_elements)\n",
        "print(\"Number of benign:\", num_benign)\n",
        "print(\"Number of malignant:\", num_malignant)\n",
        "print(\"Benign/Malignant Ratio:\", ratio)\n",
        "\n",
        "# Print the matrix accounting for elements for each culture\n",
        "first_time = True\n",
        "for idx, row in enumerate(result_matrix):\n",
        "    if first_time:\n",
        "        print(\"Number of elements for each benign culture:\")\n",
        "        first_time = False\n",
        "    else:\n",
        "        print(\"Number of elements for each malignant culture:\")\n",
        "    print(\" [\", end=\"\")\n",
        "    print(\", \".join(map(str, row)), end=\"\")\n",
        "    print(\"]\")"
      ],
      "metadata": {
        "colab": {
          "base_uri": "https://localhost:8080/"
        },
        "id": "Xqs-6QS48pFp",
        "outputId": "691ec031-69a3-43b9-e02b-1a070f931822"
      },
      "execution_count": null,
      "outputs": [
        {
          "output_type": "stream",
          "name": "stdout",
          "text": [
            "Elementi totali: 4910\n",
            "Numero di benigne: 1291\n",
            "Numero di maligne: 3619\n",
            "Ratio Benigne/Maligne: 0.35672837800497376\n",
            "Numero di elementi per ogni coltura benigna:\n",
            " [27, 19, 24, 34, 23, 31, 34, 21, 23, 37, 25, 21, 35, 19, 40, 28, 26, 27, 50, 30, 20, 27, 57, 29, 58, 65, 42, 29, 18, 62, 27, 29, 79, 35, 24, 28, 34, 15, 24, 15]\n",
            "Numero di elementi per ogni coltura maligna:\n",
            " [128, 83, 65, 71, 75, 98, 94, 109, 83, 94, 87, 105, 97, 101, 74, 110, 77, 73, 79, 83, 109, 90, 92, 75, 86, 104, 88, 83, 97, 93, 85, 87, 115, 86, 90, 87, 100, 71, 115, 80]\n"
          ]
        }
      ]
    },
    {
      "cell_type": "markdown",
      "metadata": {
        "id": "RRfbXMRSEZzR"
      },
      "source": [
        "# Data Visualization\n",
        "Visualizing various `.npy` files to explore the data present in the dataset."
      ]
    },
    {
      "cell_type": "code",
      "execution_count": null,
      "metadata": {
        "id": "v3eFyG4AEuOj"
      },
      "outputs": [],
      "source": [
        "def list_npy_files(folder_path):\n",
        "    \"\"\"\n",
        "    Lists .npy files in a folder and its subfolders.\n",
        "\n",
        "    Parameters:\n",
        "    folder_path (str): The path of the folder to examine.\n",
        "\n",
        "    Returns:\n",
        "    list: A list of full paths of found .npy files.\n",
        "    \"\"\"\n",
        "    npy_files = []\n",
        "    for root, dirs, files in os.walk(folder_path):\n",
        "        for file in files:\n",
        "            if file.endswith('.npy'):\n",
        "                npy_files.append(os.path.join(root, file))\n",
        "    return npy_files"
      ]
    },
    {
      "cell_type": "code",
      "source": [
        "def display_images(npy_files, num_images_to_show=100, reverse_order=False):\n",
        "    \"\"\"\n",
        "    Displays numpy images with separated channels and the file name.\n",
        "\n",
        "    Parameters:\n",
        "    npy_files (list): List of paths of .npy files.\n",
        "    num_images_to_show (int): Number of images to display.\n",
        "    reverse_order (bool): If True, sorts the files in reverse alphabetical order.\n",
        "    \"\"\"\n",
        "    if reverse_order:\n",
        "        npy_files.sort(reverse=True)\n",
        "    else:\n",
        "        npy_files.sort()\n",
        "\n",
        "    num_images_to_show = min(num_images_to_show, len(npy_files))                # Ensure not to exceed the available file count\n",
        "\n",
        "    plt.figure(figsize=(10, 2 * num_images_to_show))\n",
        "    channel_titles = ['Channel 1', 'Channel 2', 'Channel 3', 'Original Image']  # Channel labels\n",
        "\n",
        "    for i in range(num_images_to_show):\n",
        "        image = np.load(npy_files[i])                                           # Load the numpy image\n",
        "        channels = [image[:, :, 0], image[:, :, 1], image[:, :, 2], image]      # Split the image into its channels\n",
        "\n",
        "        for j, channel in enumerate(channels):\n",
        "            plt.subplot(num_images_to_show, 4, 4 * i + j + 1)\n",
        "            plt.imshow(channel, cmap='gray')\n",
        "            plt.axis('off')\n",
        "            if i == 0:\n",
        "                plt.title(channel_titles[j])\n",
        "\n",
        "        plt.subplot(num_images_to_show, 4, 4 * i + 4)\n",
        "        plt.title(os.path.basename(npy_files[i]), fontsize=8)                   # Add file name as title of the last channel\n",
        "        plt.axis('off')\n",
        "\n",
        "    plt.tight_layout()\n",
        "    plt.show()"
      ],
      "metadata": {
        "id": "GR6Qd02i69T5"
      },
      "execution_count": null,
      "outputs": []
    },
    {
      "cell_type": "code",
      "execution_count": null,
      "metadata": {
        "colab": {
          "base_uri": "https://localhost:8080/"
        },
        "id": "KWODI6FXddsg",
        "outputId": "8cb918e0-855b-43b0-8d7e-87710255c9aa"
      },
      "outputs": [
        {
          "output_type": "stream",
          "name": "stdout",
          "text": [
            "No .npy files found in the specified directory.\n"
          ]
        }
      ],
      "source": [
        "# Parameters\n",
        "NUM_IMAGES_TO_SHOW = 15\n",
        "REVERSE_ORDER = False\n",
        "\n",
        "npy_files = list_npy_files(TEST_PATH)                                           # Get the list of .npy files\n",
        "\n",
        "if not npy_files:\n",
        "    print(\"No .npy files found in the specified directory.\")\n",
        "else:\n",
        "    display_images(npy_files, NUM_IMAGES_TO_SHOW, REVERSE_ORDER)"
      ]
    },
    {
      "cell_type": "markdown",
      "metadata": {
        "id": "pcROCwoMfeKM"
      },
      "source": [
        "# Stratified Splitting\n",
        "Managing and organizing directories for training and validation. Using the `StratifiedShuffleSplit` function to split the dataset in a stratified manner, ensuring a balanced distribution of classes. These functions ensure that the dataset is divided efficiently and balanced, optimizing data preparation for training and validation."
      ]
    },
    {
      "cell_type": "code",
      "source": [
        "def split_dataset(dataset_path, destination_path, val_ratio=0.2, seed=42):\n",
        "    \"\"\"\n",
        "    Splits a dataset into training and validation sets, preserving the directory structure.\n",
        "\n",
        "    Parameters:\n",
        "    - dataset_path (str): The path to the directory containing the dataset.\n",
        "    - destination_path (str): The path to the directory where the split dataset will be saved.\n",
        "    - val_ratio (float): The ratio of validation data to total data. Default is 0.2.\n",
        "    - seed (int): The seed for random number generation to ensure reproducibility. Default is 42.\n",
        "\n",
        "    Returns:\n",
        "    None\n",
        "    \"\"\"\n",
        "    # Set seed for reproducibility\n",
        "    random.seed(seed)\n",
        "\n",
        "    # Paths of destination folders\n",
        "    train_dir = os.path.join(destination_path, 'train')\n",
        "    val_dir = os.path.join(destination_path, 'val')\n",
        "\n",
        "    # Function to clean and recreate destination directories\n",
        "    def reset_directory(directory):\n",
        "        if os.path.exists(directory):\n",
        "            shutil.rmtree(directory)\n",
        "        os.makedirs(directory)\n",
        "\n",
        "    # Clean destination directories\n",
        "    reset_directory(train_dir)\n",
        "    reset_directory(val_dir)\n",
        "\n",
        "    # List of files in the dataset, including subfolders\n",
        "    files = []\n",
        "    labels = []\n",
        "    for root, _, filenames in os.walk(dataset_path):\n",
        "        for filename in filenames:\n",
        "            file_path = os.path.join(root, filename)\n",
        "            files.append(file_path)\n",
        "            # Assume classes are represented by subfolders\n",
        "            labels.append(os.path.basename(root))\n",
        "\n",
        "    # Use StratifiedShuffleSplit to stratify split the files\n",
        "    strat_split = StratifiedShuffleSplit(n_splits=1, test_size=val_ratio, random_state=seed)\n",
        "    train_indices, val_indices = next(strat_split.split(files, labels))\n",
        "\n",
        "    train_files = [files[i] for i in train_indices]\n",
        "    val_files = [files[i] for i in val_indices]\n",
        "\n",
        "    # Function to copy files to destination folders while maintaining subfolder structure\n",
        "    def copy_files(file_list, dest_dir):\n",
        "        for file in tqdm(file_list, desc=f\"Copying files to {dest_dir}\"):\n",
        "            rel_path = os.path.relpath(file, dataset_path)\n",
        "            dest_path = os.path.join(dest_dir, rel_path)\n",
        "            os.makedirs(os.path.dirname(dest_path), exist_ok=True)\n",
        "            shutil.copy2(file, dest_path)\n",
        "\n",
        "    # Copy files to destination folders\n",
        "    print(\"Copying files to 'train' folder:\")\n",
        "    copy_files(train_files, train_dir)\n",
        "\n",
        "    print(\"Copying files to 'val' folder:\")\n",
        "    copy_files(val_files, val_dir)\n",
        "\n",
        "    print(f\"Dataset split: {len(train_files)} files in 'train', {len(val_files)} files in 'val'\")"
      ],
      "metadata": {
        "id": "PHs-d6PXfn6w"
      },
      "execution_count": null,
      "outputs": []
    },
    {
      "cell_type": "code",
      "source": [
        "split_dataset(DATASET_PATH, DATA_PATH, val_ratio=0.25, seed=42)"
      ],
      "metadata": {
        "id": "sYVRKLw9f1Lf",
        "colab": {
          "base_uri": "https://localhost:8080/"
        },
        "outputId": "0833778a-1da3-4820-c0df-a2b13fe9c051"
      },
      "execution_count": null,
      "outputs": [
        {
          "output_type": "stream",
          "name": "stdout",
          "text": [
            "Copia dei file nella cartella 'train':\n"
          ]
        },
        {
          "output_type": "stream",
          "name": "stderr",
          "text": [
            "Copying files to /content/drive/MyDrive/ML/Minicontest3/Dataset/train: 100%|██████████| 3682/3682 [17:52<00:00,  3.43it/s]\n"
          ]
        },
        {
          "output_type": "stream",
          "name": "stdout",
          "text": [
            "Copia dei file nella cartella 'val':\n"
          ]
        },
        {
          "output_type": "stream",
          "name": "stderr",
          "text": [
            "Copying files to /content/drive/MyDrive/ML/Minicontest3/Dataset/val: 100%|██████████| 1228/1228 [05:56<00:00,  3.44it/s]"
          ]
        },
        {
          "output_type": "stream",
          "name": "stdout",
          "text": [
            "Dataset suddiviso: 3682 file in 'train', 1228 file in 'val'\n"
          ]
        },
        {
          "output_type": "stream",
          "name": "stderr",
          "text": [
            "\n"
          ]
        }
      ]
    },
    {
      "cell_type": "markdown",
      "metadata": {
        "id": "mrqChSDvh1qg"
      },
      "source": [
        "# Transformations and Data Loader (Train and Validation)\n",
        "Defining data transformations and loaders for the training and validation sets. Setting the batch size and defining the custom class `My_DatasetFolder`, which handles reading files, applying transformations, and splitting images into their respective classes (benign and malignant). Transformations for the training set include operations such as converting to tensors, padding, resizing, horizontal and vertical flipping, random rotation, and normalization. For the validation set, transformations include converting to tensors, resizing, and normalization. Training and validation datasets are then created using `My_DatasetFolder`, and DataLoader is set up to load data in batches, enabling shuffling and using multiple processes for efficient loading."
      ]
    },
    {
      "cell_type": "code",
      "source": [
        "# Definition of the My_DatasetFolder class\n",
        "class My_DatasetFolder(Dataset):\n",
        "    def __init__(self, root, transform, is_valid_file, list_classes):\n",
        "        self.root = root\n",
        "        self.transform = transform\n",
        "        self.is_valid_file = is_valid_file\n",
        "        self.list_classes = list_classes\n",
        "        self.samples = self.__get_samples()\n",
        "\n",
        "    def __len__(self):\n",
        "        return len(self.samples)\n",
        "\n",
        "    def __get_samples(self):\n",
        "        # Initialize an empty list to store file paths and their corresponding labels\n",
        "        ListFiles = []\n",
        "        # Iterate through each class in the list of classes\n",
        "        for c in self.list_classes:\n",
        "            # Get the list of folders in the current class directory\n",
        "            list_folder = os.listdir(os.path.join(self.root, c))\n",
        "            # Iterate through each folder in the current class directory\n",
        "            for folder in list_folder:\n",
        "                # Get the list of files in the current folder\n",
        "                listofFiles = os.listdir(os.path.join(self.root, c, folder))\n",
        "                # Iterate through each file in the current folder\n",
        "                for file in listofFiles:\n",
        "                    # Check if the file is valid\n",
        "                    if self.is_valid_file(os.path.join(self.root, c, folder, file)):\n",
        "                        # Append the file path and its corresponding label index to the list\n",
        "                        ListFiles.append((os.path.join(self.root, c, folder, file), self.list_classes.index(c)))\n",
        "        return ListFiles\n",
        "\n",
        "    def loader_fc(self, path):\n",
        "        # Load image from numpy file\n",
        "        img = np.load(path)\n",
        "        return img\n",
        "\n",
        "    def __getitem__(self, index: int):\n",
        "        # Get the file path and its corresponding label at the given index\n",
        "        path, target = self.samples[index]\n",
        "        # Load the sample using the loader function\n",
        "        sample = self.loader_fc(path)\n",
        "        # Apply transformation if specified\n",
        "        if self.transform is not None:\n",
        "            sample = self.transform(sample)\n",
        "        return sample, target"
      ],
      "metadata": {
        "id": "FDlDkTq12-kn"
      },
      "execution_count": null,
      "outputs": []
    },
    {
      "cell_type": "code",
      "source": [
        "data_transforms = {\n",
        "    'train': transforms.Compose([\n",
        "        transforms.ToTensor(),\n",
        "        transforms.Pad(3, padding_mode='edge'),                                 # Adds a padding of 3 pixels on the edges\n",
        "        transforms.Resize(224),\n",
        "        transforms.RandomHorizontalFlip(),                                      # Adds horizontal flip\n",
        "        transforms.RandomVerticalFlip(),                                        # Adds vertical flip\n",
        "        transforms.RandomRotation(degrees=10),                                  # Adds random rotation\n",
        "        transforms.Normalize([0.485, 0.456, 0.406], [0.229, 0.224, 0.225])\n",
        "    ]),\n",
        "    'val': transforms.Compose([\n",
        "        transforms.ToTensor(),\n",
        "        transforms.Resize(224),\n",
        "        transforms.Normalize([0.485, 0.456, 0.406], [0.229, 0.224, 0.225])\n",
        "    ]),\n",
        "}\n"
      ],
      "metadata": {
        "id": "ohbdUi9O-WB4"
      },
      "execution_count": null,
      "outputs": []
    },
    {
      "cell_type": "code",
      "execution_count": null,
      "metadata": {
        "id": "pb64wSDJi9qx"
      },
      "outputs": [],
      "source": [
        "is_valid_file = lambda path: path.endswith('.npy')\n",
        "batch_size = 32\n",
        "\n",
        "# Creation of training and validation datasets using My_DatasetFolder\n",
        "train_dataset = My_DatasetFolder(root=TRAIN_PATH, transform=data_transforms['train'], is_valid_file=is_valid_file, list_classes=['benign', 'malignant'])\n",
        "val_dataset = My_DatasetFolder(root=VAL_PATH, transform=data_transforms['val'], is_valid_file=is_valid_file, list_classes=['benign', 'malignant'])\n",
        "\n",
        "# Creation of DataLoader for training and validation sets\n",
        "train_dataloader = DataLoader(train_dataset, batch_size=batch_size, shuffle=True, num_workers=2, pin_memory=True)\n",
        "val_dataloader = DataLoader(val_dataset, batch_size=batch_size, shuffle=True, num_workers=2, pin_memory=True)"
      ]
    },
    {
      "cell_type": "code",
      "source": [
        "# Print the size of training and validation datasets\n",
        "train_dataset_size = len(train_dataset)\n",
        "val_dataset_size = len(val_dataset)\n",
        "print(\"Training dataset size:\", train_dataset_size)\n",
        "print(\"Validation dataset size:\", val_dataset_size)"
      ],
      "metadata": {
        "id": "Q-hoJvH93DX4",
        "colab": {
          "base_uri": "https://localhost:8080/"
        },
        "outputId": "ea801641-3b8a-426a-e309-7caa03eda2ce"
      },
      "execution_count": null,
      "outputs": [
        {
          "output_type": "stream",
          "name": "stdout",
          "text": [
            "Dimensione del dataset di addestramento: 3682\n",
            "Dimensione del dataset di validazione: 1228\n"
          ]
        }
      ]
    },
    {
      "cell_type": "markdown",
      "metadata": {
        "id": "jnsyefREGTMJ"
      },
      "source": [
        "# Training with Validation\n",
        "Defining a training and validation loop based on the pre-trained ResNet50 network. Training the model is performed over a specified number of epochs, updating the model weights and saving the best weights obtained during training.\n",
        "The training loop involves cleaning existing log files and training the model for each epoch, calculating loss and accuracy on each batch of the training and validation dataloaders.\n",
        "At the end of each epoch, training and validation results are recorded, and if the validation accuracy improves, the model weights are saved.\n",
        "The ResNet50 model is modified for binary classification, freezing initial layers and updating only the final layers during training. The loss function used is `BCEWithLogitsLoss`, and the optimizer is Adam."
      ]
    },
    {
      "cell_type": "code",
      "execution_count": null,
      "metadata": {
        "id": "WNxyPyHiiqBh"
      },
      "outputs": [],
      "source": [
        "def train_loop_validation(train_dataloader, val_dataloader, startEpoch, numEpochs, model_conv, criterionCNN, optimizer_conv, best_acc, best_loss, best_epoca, outputPath, scheduler=None):\n",
        "    \"\"\"\n",
        "    Trains a convolutional neural network model using the given data loaders for training and validation.\n",
        "\n",
        "    Parameters:\n",
        "    - train_dataloader (DataLoader): DataLoader for training dataset.\n",
        "    - val_dataloader (DataLoader): DataLoader for validation dataset.\n",
        "    - startEpoch (int): Starting epoch number.\n",
        "    - numEpochs (int): Total number of epochs for training.\n",
        "    - model_conv (torch.nn.Module): The convolutional neural network model.\n",
        "    - criterionCNN (torch.nn.Module): The loss function.\n",
        "    - optimizer_conv (torch.optim.Optimizer): The optimizer.\n",
        "    - best_acc (float): The best accuracy achieved during training.\n",
        "    - best_loss (float): The best loss achieved during training.\n",
        "    - best_epoca (int): The epoch number with the best performance.\n",
        "    - outputPath (str): The directory path to save the trained model and logs.\n",
        "    - scheduler (torch.optim.lr_scheduler._LRScheduler, optional): Learning rate scheduler. Default is None.\n",
        "\n",
        "    Returns:\n",
        "    int: The epoch number with the best performance.\n",
        "    \"\"\"\n",
        "\n",
        "    # Clear existing text files, if any\n",
        "    train_files = ['lossTrain.txt', 'AccTrain.txt', 'lossVal.txt', 'AccVal.txt']\n",
        "    for filename in train_files:\n",
        "        filepath = os.path.join(outputPath, filename)\n",
        "        if os.path.exists(filepath):\n",
        "            os.remove(filepath)\n",
        "\n",
        "    for epoch in range(startEpoch, numEpochs + 1):\n",
        "        since = time.time()\n",
        "\n",
        "        modelLoss_train = 0.0\n",
        "        modelAcc_train = 0.0\n",
        "\n",
        "        model_conv.train()\n",
        "        totalSize = 0\n",
        "\n",
        "        # Training loop\n",
        "        for inputs, labels in tqdm(train_dataloader, total=len(train_dataloader), desc=f\"Epoch {epoch}/{numEpochs} - Training\"):\n",
        "            inputs = inputs.float().to(device)\n",
        "            labels = labels.view(-1, 1).float().to(device)                      # Convert labels to float and reshape\n",
        "\n",
        "            optimizer_conv.zero_grad()\n",
        "            outputs = model_conv(inputs)\n",
        "            lossCNN = criterionCNN(outputs, labels)\n",
        "            lossCNN.backward()\n",
        "            optimizer_conv.step()\n",
        "\n",
        "            modelLoss_train += lossCNN.item() * inputs.size(0)\n",
        "            totalSize += inputs.size(0)\n",
        "\n",
        "            # Apply sigmoid to outputs and round to get binary predictions\n",
        "            preds = torch.sigmoid(outputs).round()\n",
        "            modelAcc_train += torch.sum(preds == labels.data).item()\n",
        "\n",
        "        modelLoss_epoch_train = modelLoss_train / totalSize\n",
        "        modelAcc_epoch_train = modelAcc_train / totalSize\n",
        "\n",
        "        # Validation loop\n",
        "        model_conv.eval()\n",
        "        totalSize_val = 0\n",
        "        modelLoss_val = 0.0\n",
        "        modelAcc_val = 0.0\n",
        "\n",
        "        with torch.no_grad():\n",
        "            for inputs, labels in tqdm(val_dataloader, total=len(val_dataloader), desc=f\"Epoch {epoch}/{numEpochs} - Validation\"):\n",
        "                inputs = inputs.float().to(device)\n",
        "                labels = labels.view(-1, 1).float().to(device)                  # Convert labels to float and reshape\n",
        "\n",
        "                outputs = model_conv(inputs)\n",
        "                lossCNN = criterionCNN(outputs, labels)\n",
        "\n",
        "                modelLoss_val += lossCNN.item() * inputs.size(0)\n",
        "                totalSize_val += inputs.size(0)\n",
        "\n",
        "                preds = torch.sigmoid(outputs).round()\n",
        "                modelAcc_val += torch.sum(preds == labels.data).item()\n",
        "\n",
        "        modelLoss_epoch_val = modelLoss_val / totalSize_val\n",
        "        modelAcc_epoch_val = modelAcc_val / totalSize_val\n",
        "        time_elapsed = time.time() - since\n",
        "\n",
        "        current_lr = optimizer_conv.param_groups[0]['lr']\n",
        "\n",
        "        print('[Epoch %d][TRAIN on %d [Loss: %.4f  ACC: %.4f]][VAL on %d [Loss: %.4f  ACC: %.4f]][TIME: %.0f m %.0f s] [LR: %.5f]'\n",
        "              % (epoch, totalSize, modelLoss_epoch_train, modelAcc_epoch_train, totalSize_val, modelLoss_epoch_val,\n",
        "                 modelAcc_epoch_val, time_elapsed // 60, time_elapsed % 60, current_lr))\n",
        "\n",
        "        # Save the best model\n",
        "        if (modelAcc_epoch_val > best_acc) or (modelAcc_epoch_val == best_acc and modelLoss_epoch_val < best_loss):\n",
        "            print('     .... Saving best weights ....')\n",
        "            best_acc = modelAcc_epoch_val\n",
        "            best_loss = modelLoss_epoch_val\n",
        "            best_epoch = epoch\n",
        "            torch.save(model_conv.state_dict(), os.path.join(outputPath, 'best_model_weights.pth'))\n",
        "\n",
        "        # Scheduler step\n",
        "        if scheduler:\n",
        "            scheduler.step(modelLoss_epoch_val)\n",
        "\n",
        "        # Logging losses and accuracies\n",
        "        with open(os.path.join(outputPath, 'lossTrain.txt'), \"a\") as file_object:\n",
        "            file_object.write(str(modelLoss_epoch_train) + '\\n')\n",
        "\n",
        "        with open(os.path.join(outputPath, 'AccTrain.txt'), \"a\") as file_object:\n",
        "            file_object.write(str(modelAcc_epoch_train) + '\\n')\n",
        "\n",
        "        with open(os.path.join(outputPath, 'lossVal.txt'), \"a\") as file_object:\n",
        "            file_object.write(str(modelLoss_epoch_val) + '\\n')\n",
        "\n",
        "        with open(os.path.join(outputPath, 'AccVal.txt'), \"a\") as file_object:\n",
        "            file_object.write(str(modelAcc_epoch_val) + '\\n')\n",
        "\n",
        "        sio.savemat(os.path.join(outputPath, 'check_point.mat'), {'best_acc': best_acc,\n",
        "                                                                  'best_loss': best_loss,\n",
        "                                                                  'best_epoca': best_epoca,\n",
        "                                                                  'last_epoch': epoch})\n",
        "\n",
        "    # Return the best epoch\n",
        "    return best_epoch"
      ]
    },
    {
      "cell_type": "code",
      "execution_count": null,
      "metadata": {
        "colab": {
          "base_uri": "https://localhost:8080/"
        },
        "id": "lVPKMNU_v7B5",
        "outputId": "20f4ee7b-b211-4f2b-8d6c-3f318b269e9e"
      },
      "outputs": [
        {
          "output_type": "stream",
          "name": "stderr",
          "text": [
            "/usr/local/lib/python3.10/dist-packages/torchvision/models/_utils.py:208: UserWarning: The parameter 'pretrained' is deprecated since 0.13 and may be removed in the future, please use 'weights' instead.\n",
            "  warnings.warn(\n",
            "/usr/local/lib/python3.10/dist-packages/torchvision/models/_utils.py:223: UserWarning: Arguments other than a weight enum or `None` for 'weights' are deprecated since 0.13 and may be removed in the future. The current behavior is equivalent to passing `weights=ResNet50_Weights.IMAGENET1K_V1`. You can also use `weights=ResNet50_Weights.DEFAULT` to get the most up-to-date weights.\n",
            "  warnings.warn(msg)\n",
            "Downloading: \"https://download.pytorch.org/models/resnet50-0676ba61.pth\" to /root/.cache/torch/hub/checkpoints/resnet50-0676ba61.pth\n",
            "100%|██████████| 97.8M/97.8M [00:00<00:00, 161MB/s]\n"
          ]
        },
        {
          "output_type": "stream",
          "name": "stdout",
          "text": [
            "----------------------------------------------------------------\n",
            "        Layer (type)               Output Shape         Param #\n",
            "================================================================\n",
            "            Conv2d-1         [-1, 64, 112, 112]           9,408\n",
            "       BatchNorm2d-2         [-1, 64, 112, 112]             128\n",
            "              ReLU-3         [-1, 64, 112, 112]               0\n",
            "         MaxPool2d-4           [-1, 64, 56, 56]               0\n",
            "            Conv2d-5           [-1, 64, 56, 56]           4,096\n",
            "       BatchNorm2d-6           [-1, 64, 56, 56]             128\n",
            "              ReLU-7           [-1, 64, 56, 56]               0\n",
            "            Conv2d-8           [-1, 64, 56, 56]          36,864\n",
            "       BatchNorm2d-9           [-1, 64, 56, 56]             128\n",
            "             ReLU-10           [-1, 64, 56, 56]               0\n",
            "           Conv2d-11          [-1, 256, 56, 56]          16,384\n",
            "      BatchNorm2d-12          [-1, 256, 56, 56]             512\n",
            "           Conv2d-13          [-1, 256, 56, 56]          16,384\n",
            "      BatchNorm2d-14          [-1, 256, 56, 56]             512\n",
            "             ReLU-15          [-1, 256, 56, 56]               0\n",
            "       Bottleneck-16          [-1, 256, 56, 56]               0\n",
            "           Conv2d-17           [-1, 64, 56, 56]          16,384\n",
            "      BatchNorm2d-18           [-1, 64, 56, 56]             128\n",
            "             ReLU-19           [-1, 64, 56, 56]               0\n",
            "           Conv2d-20           [-1, 64, 56, 56]          36,864\n",
            "      BatchNorm2d-21           [-1, 64, 56, 56]             128\n",
            "             ReLU-22           [-1, 64, 56, 56]               0\n",
            "           Conv2d-23          [-1, 256, 56, 56]          16,384\n",
            "      BatchNorm2d-24          [-1, 256, 56, 56]             512\n",
            "             ReLU-25          [-1, 256, 56, 56]               0\n",
            "       Bottleneck-26          [-1, 256, 56, 56]               0\n",
            "           Conv2d-27           [-1, 64, 56, 56]          16,384\n",
            "      BatchNorm2d-28           [-1, 64, 56, 56]             128\n",
            "             ReLU-29           [-1, 64, 56, 56]               0\n",
            "           Conv2d-30           [-1, 64, 56, 56]          36,864\n",
            "      BatchNorm2d-31           [-1, 64, 56, 56]             128\n",
            "             ReLU-32           [-1, 64, 56, 56]               0\n",
            "           Conv2d-33          [-1, 256, 56, 56]          16,384\n",
            "      BatchNorm2d-34          [-1, 256, 56, 56]             512\n",
            "             ReLU-35          [-1, 256, 56, 56]               0\n",
            "       Bottleneck-36          [-1, 256, 56, 56]               0\n",
            "           Conv2d-37          [-1, 128, 56, 56]          32,768\n",
            "      BatchNorm2d-38          [-1, 128, 56, 56]             256\n",
            "             ReLU-39          [-1, 128, 56, 56]               0\n",
            "           Conv2d-40          [-1, 128, 28, 28]         147,456\n",
            "      BatchNorm2d-41          [-1, 128, 28, 28]             256\n",
            "             ReLU-42          [-1, 128, 28, 28]               0\n",
            "           Conv2d-43          [-1, 512, 28, 28]          65,536\n",
            "      BatchNorm2d-44          [-1, 512, 28, 28]           1,024\n",
            "           Conv2d-45          [-1, 512, 28, 28]         131,072\n",
            "      BatchNorm2d-46          [-1, 512, 28, 28]           1,024\n",
            "             ReLU-47          [-1, 512, 28, 28]               0\n",
            "       Bottleneck-48          [-1, 512, 28, 28]               0\n",
            "           Conv2d-49          [-1, 128, 28, 28]          65,536\n",
            "      BatchNorm2d-50          [-1, 128, 28, 28]             256\n",
            "             ReLU-51          [-1, 128, 28, 28]               0\n",
            "           Conv2d-52          [-1, 128, 28, 28]         147,456\n",
            "      BatchNorm2d-53          [-1, 128, 28, 28]             256\n",
            "             ReLU-54          [-1, 128, 28, 28]               0\n",
            "           Conv2d-55          [-1, 512, 28, 28]          65,536\n",
            "      BatchNorm2d-56          [-1, 512, 28, 28]           1,024\n",
            "             ReLU-57          [-1, 512, 28, 28]               0\n",
            "       Bottleneck-58          [-1, 512, 28, 28]               0\n",
            "           Conv2d-59          [-1, 128, 28, 28]          65,536\n",
            "      BatchNorm2d-60          [-1, 128, 28, 28]             256\n",
            "             ReLU-61          [-1, 128, 28, 28]               0\n",
            "           Conv2d-62          [-1, 128, 28, 28]         147,456\n",
            "      BatchNorm2d-63          [-1, 128, 28, 28]             256\n",
            "             ReLU-64          [-1, 128, 28, 28]               0\n",
            "           Conv2d-65          [-1, 512, 28, 28]          65,536\n",
            "      BatchNorm2d-66          [-1, 512, 28, 28]           1,024\n",
            "             ReLU-67          [-1, 512, 28, 28]               0\n",
            "       Bottleneck-68          [-1, 512, 28, 28]               0\n",
            "           Conv2d-69          [-1, 128, 28, 28]          65,536\n",
            "      BatchNorm2d-70          [-1, 128, 28, 28]             256\n",
            "             ReLU-71          [-1, 128, 28, 28]               0\n",
            "           Conv2d-72          [-1, 128, 28, 28]         147,456\n",
            "      BatchNorm2d-73          [-1, 128, 28, 28]             256\n",
            "             ReLU-74          [-1, 128, 28, 28]               0\n",
            "           Conv2d-75          [-1, 512, 28, 28]          65,536\n",
            "      BatchNorm2d-76          [-1, 512, 28, 28]           1,024\n",
            "             ReLU-77          [-1, 512, 28, 28]               0\n",
            "       Bottleneck-78          [-1, 512, 28, 28]               0\n",
            "           Conv2d-79          [-1, 256, 28, 28]         131,072\n",
            "      BatchNorm2d-80          [-1, 256, 28, 28]             512\n",
            "             ReLU-81          [-1, 256, 28, 28]               0\n",
            "           Conv2d-82          [-1, 256, 14, 14]         589,824\n",
            "      BatchNorm2d-83          [-1, 256, 14, 14]             512\n",
            "             ReLU-84          [-1, 256, 14, 14]               0\n",
            "           Conv2d-85         [-1, 1024, 14, 14]         262,144\n",
            "      BatchNorm2d-86         [-1, 1024, 14, 14]           2,048\n",
            "           Conv2d-87         [-1, 1024, 14, 14]         524,288\n",
            "      BatchNorm2d-88         [-1, 1024, 14, 14]           2,048\n",
            "             ReLU-89         [-1, 1024, 14, 14]               0\n",
            "       Bottleneck-90         [-1, 1024, 14, 14]               0\n",
            "           Conv2d-91          [-1, 256, 14, 14]         262,144\n",
            "      BatchNorm2d-92          [-1, 256, 14, 14]             512\n",
            "             ReLU-93          [-1, 256, 14, 14]               0\n",
            "           Conv2d-94          [-1, 256, 14, 14]         589,824\n",
            "      BatchNorm2d-95          [-1, 256, 14, 14]             512\n",
            "             ReLU-96          [-1, 256, 14, 14]               0\n",
            "           Conv2d-97         [-1, 1024, 14, 14]         262,144\n",
            "      BatchNorm2d-98         [-1, 1024, 14, 14]           2,048\n",
            "             ReLU-99         [-1, 1024, 14, 14]               0\n",
            "      Bottleneck-100         [-1, 1024, 14, 14]               0\n",
            "          Conv2d-101          [-1, 256, 14, 14]         262,144\n",
            "     BatchNorm2d-102          [-1, 256, 14, 14]             512\n",
            "            ReLU-103          [-1, 256, 14, 14]               0\n",
            "          Conv2d-104          [-1, 256, 14, 14]         589,824\n",
            "     BatchNorm2d-105          [-1, 256, 14, 14]             512\n",
            "            ReLU-106          [-1, 256, 14, 14]               0\n",
            "          Conv2d-107         [-1, 1024, 14, 14]         262,144\n",
            "     BatchNorm2d-108         [-1, 1024, 14, 14]           2,048\n",
            "            ReLU-109         [-1, 1024, 14, 14]               0\n",
            "      Bottleneck-110         [-1, 1024, 14, 14]               0\n",
            "          Conv2d-111          [-1, 256, 14, 14]         262,144\n",
            "     BatchNorm2d-112          [-1, 256, 14, 14]             512\n",
            "            ReLU-113          [-1, 256, 14, 14]               0\n",
            "          Conv2d-114          [-1, 256, 14, 14]         589,824\n",
            "     BatchNorm2d-115          [-1, 256, 14, 14]             512\n",
            "            ReLU-116          [-1, 256, 14, 14]               0\n",
            "          Conv2d-117         [-1, 1024, 14, 14]         262,144\n",
            "     BatchNorm2d-118         [-1, 1024, 14, 14]           2,048\n",
            "            ReLU-119         [-1, 1024, 14, 14]               0\n",
            "      Bottleneck-120         [-1, 1024, 14, 14]               0\n",
            "          Conv2d-121          [-1, 256, 14, 14]         262,144\n",
            "     BatchNorm2d-122          [-1, 256, 14, 14]             512\n",
            "            ReLU-123          [-1, 256, 14, 14]               0\n",
            "          Conv2d-124          [-1, 256, 14, 14]         589,824\n",
            "     BatchNorm2d-125          [-1, 256, 14, 14]             512\n",
            "            ReLU-126          [-1, 256, 14, 14]               0\n",
            "          Conv2d-127         [-1, 1024, 14, 14]         262,144\n",
            "     BatchNorm2d-128         [-1, 1024, 14, 14]           2,048\n",
            "            ReLU-129         [-1, 1024, 14, 14]               0\n",
            "      Bottleneck-130         [-1, 1024, 14, 14]               0\n",
            "          Conv2d-131          [-1, 256, 14, 14]         262,144\n",
            "     BatchNorm2d-132          [-1, 256, 14, 14]             512\n",
            "            ReLU-133          [-1, 256, 14, 14]               0\n",
            "          Conv2d-134          [-1, 256, 14, 14]         589,824\n",
            "     BatchNorm2d-135          [-1, 256, 14, 14]             512\n",
            "            ReLU-136          [-1, 256, 14, 14]               0\n",
            "          Conv2d-137         [-1, 1024, 14, 14]         262,144\n",
            "     BatchNorm2d-138         [-1, 1024, 14, 14]           2,048\n",
            "            ReLU-139         [-1, 1024, 14, 14]               0\n",
            "      Bottleneck-140         [-1, 1024, 14, 14]               0\n",
            "          Conv2d-141          [-1, 512, 14, 14]         524,288\n",
            "     BatchNorm2d-142          [-1, 512, 14, 14]           1,024\n",
            "            ReLU-143          [-1, 512, 14, 14]               0\n",
            "          Conv2d-144            [-1, 512, 7, 7]       2,359,296\n",
            "     BatchNorm2d-145            [-1, 512, 7, 7]           1,024\n",
            "            ReLU-146            [-1, 512, 7, 7]               0\n",
            "          Conv2d-147           [-1, 2048, 7, 7]       1,048,576\n",
            "     BatchNorm2d-148           [-1, 2048, 7, 7]           4,096\n",
            "          Conv2d-149           [-1, 2048, 7, 7]       2,097,152\n",
            "     BatchNorm2d-150           [-1, 2048, 7, 7]           4,096\n",
            "            ReLU-151           [-1, 2048, 7, 7]               0\n",
            "      Bottleneck-152           [-1, 2048, 7, 7]               0\n",
            "          Conv2d-153            [-1, 512, 7, 7]       1,048,576\n",
            "     BatchNorm2d-154            [-1, 512, 7, 7]           1,024\n",
            "            ReLU-155            [-1, 512, 7, 7]               0\n",
            "          Conv2d-156            [-1, 512, 7, 7]       2,359,296\n",
            "     BatchNorm2d-157            [-1, 512, 7, 7]           1,024\n",
            "            ReLU-158            [-1, 512, 7, 7]               0\n",
            "          Conv2d-159           [-1, 2048, 7, 7]       1,048,576\n",
            "     BatchNorm2d-160           [-1, 2048, 7, 7]           4,096\n",
            "            ReLU-161           [-1, 2048, 7, 7]               0\n",
            "      Bottleneck-162           [-1, 2048, 7, 7]               0\n",
            "          Conv2d-163            [-1, 512, 7, 7]       1,048,576\n",
            "     BatchNorm2d-164            [-1, 512, 7, 7]           1,024\n",
            "            ReLU-165            [-1, 512, 7, 7]               0\n",
            "          Conv2d-166            [-1, 512, 7, 7]       2,359,296\n",
            "     BatchNorm2d-167            [-1, 512, 7, 7]           1,024\n",
            "            ReLU-168            [-1, 512, 7, 7]               0\n",
            "          Conv2d-169           [-1, 2048, 7, 7]       1,048,576\n",
            "     BatchNorm2d-170           [-1, 2048, 7, 7]           4,096\n",
            "            ReLU-171           [-1, 2048, 7, 7]               0\n",
            "      Bottleneck-172           [-1, 2048, 7, 7]               0\n",
            "AdaptiveAvgPool2d-173           [-1, 2048, 1, 1]               0\n",
            "          Linear-174                 [-1, 1000]       2,049,000\n",
            "================================================================\n",
            "Total params: 25,557,032\n",
            "Trainable params: 25,557,032\n",
            "Non-trainable params: 0\n",
            "----------------------------------------------------------------\n",
            "Input size (MB): 0.57\n",
            "Forward/backward pass size (MB): 286.56\n",
            "Params size (MB): 97.49\n",
            "Estimated Total Size (MB): 384.62\n",
            "----------------------------------------------------------------\n"
          ]
        }
      ],
      "source": [
        "# Define the model\n",
        "model_conv = models.resnet50(pretrained=True).cuda()\n",
        "\n",
        "# Print the model summary\n",
        "summary(model_conv, input_size=(3, 224, 224))"
      ]
    },
    {
      "cell_type": "code",
      "source": [
        "# Updated hyperparameters\n",
        "learning_rate = 0.001                                                           # Learning rate for the optimizer\n",
        "num_epochs = 50                                                                 # Total number of epochs for training\n",
        "startEpoch = 1                                                                  # Initial epoch (useful for resuming interrupted training)\n",
        "best_acc = 0.0                                                                  # Initial best accuracy (to track the best model)\n",
        "best_loss = float('inf')                                                        # Initial best loss (to track the best model)\n",
        "best_epoch = -1                                                                 # Epoch corresponding to the best saved model\n",
        "\n",
        "# Redefine the model to avoid overwriting\n",
        "model_conv = models.resnet50(pretrained=True).cuda()  # Load the pretrained ResNet50 model and move it to GPU\n",
        "\n",
        "# Replace the last layer for binary classification\n",
        "num_ftrs = model_conv.fc.in_features                                            # Number of output features from the penultimate layer\n",
        "model_conv.fc = nn.Linear(num_ftrs, 1).cuda()                                   # Replace the last layer with an fc layer for binary classification\n",
        "\n",
        "# Freeze only the parameters of the early blocks of the model\n",
        "for name, param in model_conv.named_parameters():\n",
        "    if 'layer4' not in name and 'fc' not in name:                               # Freeze parameters of all layers except 'layer4' and 'fc'\n",
        "        param.requires_grad = False\n",
        "\n",
        "# Define criterion and optimizer\n",
        "criterionCNN = nn.BCEWithLogitsLoss().cuda()                                                                                  # Define the loss function for binary classification\n",
        "optimizer_conv = optim.Adam(filter(lambda p: p.requires_grad, model_conv.parameters()), lr=learning_rate)"
      ],
      "metadata": {
        "id": "EErGdQ2s_N1c"
      },
      "execution_count": null,
      "outputs": []
    },
    {
      "cell_type": "code",
      "execution_count": null,
      "metadata": {
        "colab": {
          "base_uri": "https://localhost:8080/"
        },
        "id": "gDvuzCvg0s1l",
        "outputId": "d5822fb0-1008-47c9-f72c-552a43abf6d6"
      },
      "outputs": [
        {
          "output_type": "stream",
          "name": "stderr",
          "text": [
            "Epoch 1/50 - Training: 100%|██████████| 116/116 [25:35<00:00, 13.24s/it]\n",
            "Epoch 1/50 - Validation: 100%|██████████| 39/39 [08:39<00:00, 13.32s/it]\n"
          ]
        },
        {
          "output_type": "stream",
          "name": "stdout",
          "text": [
            "[Epoch 1][TRAIN on 3682 [Loss: 0.3173  ACC: 0.8772]][VAL on 1228 [Loss: 0.2934  ACC: 0.9055]][TIME: 34 m 15 s] [LR: 0.00100]\n",
            "     .... Saving best weights ....\n"
          ]
        },
        {
          "output_type": "stream",
          "name": "stderr",
          "text": [
            "Epoch 2/50 - Training: 100%|██████████| 116/116 [00:39<00:00,  2.91it/s]\n",
            "Epoch 2/50 - Validation: 100%|██████████| 39/39 [00:07<00:00,  5.00it/s]\n"
          ]
        },
        {
          "output_type": "stream",
          "name": "stdout",
          "text": [
            "[Epoch 2][TRAIN on 3682 [Loss: 0.2217  ACC: 0.9109]][VAL on 1228 [Loss: 0.2498  ACC: 0.9031]][TIME: 0 m 48 s] [LR: 0.00100]\n"
          ]
        },
        {
          "output_type": "stream",
          "name": "stderr",
          "text": [
            "Epoch 3/50 - Training: 100%|██████████| 116/116 [00:39<00:00,  2.94it/s]\n",
            "Epoch 3/50 - Validation: 100%|██████████| 39/39 [00:07<00:00,  5.01it/s]\n"
          ]
        },
        {
          "output_type": "stream",
          "name": "stdout",
          "text": [
            "[Epoch 3][TRAIN on 3682 [Loss: 0.1864  ACC: 0.9275]][VAL on 1228 [Loss: 0.1968  ACC: 0.9259]][TIME: 0 m 47 s] [LR: 0.00100]\n",
            "     .... Saving best weights ....\n"
          ]
        },
        {
          "output_type": "stream",
          "name": "stderr",
          "text": [
            "Epoch 4/50 - Training: 100%|██████████| 116/116 [00:39<00:00,  2.96it/s]\n",
            "Epoch 4/50 - Validation: 100%|██████████| 39/39 [00:10<00:00,  3.71it/s]\n"
          ]
        },
        {
          "output_type": "stream",
          "name": "stdout",
          "text": [
            "[Epoch 4][TRAIN on 3682 [Loss: 0.1989  ACC: 0.9240]][VAL on 1228 [Loss: 0.2448  ACC: 0.9251]][TIME: 0 m 50 s] [LR: 0.00100]\n"
          ]
        },
        {
          "output_type": "stream",
          "name": "stderr",
          "text": [
            "Epoch 5/50 - Training: 100%|██████████| 116/116 [00:38<00:00,  3.05it/s]\n",
            "Epoch 5/50 - Validation: 100%|██████████| 39/39 [00:08<00:00,  4.49it/s]\n"
          ]
        },
        {
          "output_type": "stream",
          "name": "stdout",
          "text": [
            "[Epoch 5][TRAIN on 3682 [Loss: 0.1787  ACC: 0.9297]][VAL on 1228 [Loss: 0.1990  ACC: 0.9267]][TIME: 0 m 47 s] [LR: 0.00100]\n",
            "     .... Saving best weights ....\n"
          ]
        },
        {
          "output_type": "stream",
          "name": "stderr",
          "text": [
            "Epoch 6/50 - Training: 100%|██████████| 116/116 [00:37<00:00,  3.06it/s]\n",
            "Epoch 6/50 - Validation: 100%|██████████| 39/39 [00:09<00:00,  4.20it/s]\n"
          ]
        },
        {
          "output_type": "stream",
          "name": "stdout",
          "text": [
            "[Epoch 6][TRAIN on 3682 [Loss: 0.1578  ACC: 0.9392]][VAL on 1228 [Loss: 0.2189  ACC: 0.9259]][TIME: 0 m 47 s] [LR: 0.00100]\n"
          ]
        },
        {
          "output_type": "stream",
          "name": "stderr",
          "text": [
            "Epoch 7/50 - Training: 100%|██████████| 116/116 [00:37<00:00,  3.08it/s]\n",
            "Epoch 7/50 - Validation: 100%|██████████| 39/39 [00:09<00:00,  4.21it/s]\n"
          ]
        },
        {
          "output_type": "stream",
          "name": "stdout",
          "text": [
            "[Epoch 7][TRAIN on 3682 [Loss: 0.1470  ACC: 0.9419]][VAL on 1228 [Loss: 0.1851  ACC: 0.9300]][TIME: 0 m 47 s] [LR: 0.00100]\n",
            "     .... Saving best weights ....\n"
          ]
        },
        {
          "output_type": "stream",
          "name": "stderr",
          "text": [
            "Epoch 8/50 - Training: 100%|██████████| 116/116 [00:38<00:00,  3.03it/s]\n",
            "Epoch 8/50 - Validation: 100%|██████████| 39/39 [00:09<00:00,  4.08it/s]\n"
          ]
        },
        {
          "output_type": "stream",
          "name": "stdout",
          "text": [
            "[Epoch 8][TRAIN on 3682 [Loss: 0.1197  ACC: 0.9527]][VAL on 1228 [Loss: 0.2113  ACC: 0.9202]][TIME: 0 m 48 s] [LR: 0.00100]\n"
          ]
        },
        {
          "output_type": "stream",
          "name": "stderr",
          "text": [
            "Epoch 9/50 - Training: 100%|██████████| 116/116 [00:37<00:00,  3.07it/s]\n",
            "Epoch 9/50 - Validation: 100%|██████████| 39/39 [00:09<00:00,  4.13it/s]\n"
          ]
        },
        {
          "output_type": "stream",
          "name": "stdout",
          "text": [
            "[Epoch 9][TRAIN on 3682 [Loss: 0.1224  ACC: 0.9552]][VAL on 1228 [Loss: 0.2140  ACC: 0.9349]][TIME: 0 m 47 s] [LR: 0.00100]\n",
            "     .... Saving best weights ....\n"
          ]
        },
        {
          "output_type": "stream",
          "name": "stderr",
          "text": [
            "Epoch 10/50 - Training: 100%|██████████| 116/116 [00:39<00:00,  2.94it/s]\n",
            "Epoch 10/50 - Validation: 100%|██████████| 39/39 [00:09<00:00,  4.23it/s]\n"
          ]
        },
        {
          "output_type": "stream",
          "name": "stdout",
          "text": [
            "[Epoch 10][TRAIN on 3682 [Loss: 0.0968  ACC: 0.9631]][VAL on 1228 [Loss: 0.2872  ACC: 0.8998]][TIME: 0 m 49 s] [LR: 0.00100]\n"
          ]
        },
        {
          "output_type": "stream",
          "name": "stderr",
          "text": [
            "Epoch 11/50 - Training: 100%|██████████| 116/116 [00:37<00:00,  3.07it/s]\n",
            "Epoch 11/50 - Validation: 100%|██████████| 39/39 [00:09<00:00,  4.08it/s]\n"
          ]
        },
        {
          "output_type": "stream",
          "name": "stdout",
          "text": [
            "[Epoch 11][TRAIN on 3682 [Loss: 0.1185  ACC: 0.9530]][VAL on 1228 [Loss: 0.2111  ACC: 0.9365]][TIME: 0 m 47 s] [LR: 0.00100]\n",
            "     .... Saving best weights ....\n"
          ]
        },
        {
          "output_type": "stream",
          "name": "stderr",
          "text": [
            "Epoch 12/50 - Training: 100%|██████████| 116/116 [00:38<00:00,  3.00it/s]\n",
            "Epoch 12/50 - Validation: 100%|██████████| 39/39 [00:08<00:00,  4.37it/s]\n"
          ]
        },
        {
          "output_type": "stream",
          "name": "stdout",
          "text": [
            "[Epoch 12][TRAIN on 3682 [Loss: 0.1197  ACC: 0.9557]][VAL on 1228 [Loss: 0.2640  ACC: 0.9275]][TIME: 0 m 48 s] [LR: 0.00100]\n"
          ]
        },
        {
          "output_type": "stream",
          "name": "stderr",
          "text": [
            "Epoch 13/50 - Training: 100%|██████████| 116/116 [00:38<00:00,  3.03it/s]\n",
            "Epoch 13/50 - Validation: 100%|██████████| 39/39 [00:08<00:00,  4.47it/s]\n"
          ]
        },
        {
          "output_type": "stream",
          "name": "stdout",
          "text": [
            "[Epoch 13][TRAIN on 3682 [Loss: 0.0872  ACC: 0.9671]][VAL on 1228 [Loss: 0.1866  ACC: 0.9308]][TIME: 0 m 47 s] [LR: 0.00100]\n"
          ]
        },
        {
          "output_type": "stream",
          "name": "stderr",
          "text": [
            "Epoch 14/50 - Training: 100%|██████████| 116/116 [00:39<00:00,  2.94it/s]\n",
            "Epoch 14/50 - Validation: 100%|██████████| 39/39 [00:08<00:00,  4.83it/s]\n"
          ]
        },
        {
          "output_type": "stream",
          "name": "stdout",
          "text": [
            "[Epoch 14][TRAIN on 3682 [Loss: 0.0965  ACC: 0.9636]][VAL on 1228 [Loss: 0.1830  ACC: 0.9365]][TIME: 0 m 48 s] [LR: 0.00100]\n",
            "     .... Saving best weights ....\n"
          ]
        },
        {
          "output_type": "stream",
          "name": "stderr",
          "text": [
            "Epoch 15/50 - Training: 100%|██████████| 116/116 [00:40<00:00,  2.89it/s]\n",
            "Epoch 15/50 - Validation: 100%|██████████| 39/39 [00:07<00:00,  5.12it/s]\n"
          ]
        },
        {
          "output_type": "stream",
          "name": "stdout",
          "text": [
            "[Epoch 15][TRAIN on 3682 [Loss: 0.0928  ACC: 0.9644]][VAL on 1228 [Loss: 0.1816  ACC: 0.9332]][TIME: 0 m 48 s] [LR: 0.00100]\n"
          ]
        },
        {
          "output_type": "stream",
          "name": "stderr",
          "text": [
            "Epoch 16/50 - Training: 100%|██████████| 116/116 [00:41<00:00,  2.77it/s]\n",
            "Epoch 16/50 - Validation: 100%|██████████| 39/39 [00:08<00:00,  4.45it/s]\n"
          ]
        },
        {
          "output_type": "stream",
          "name": "stdout",
          "text": [
            "[Epoch 16][TRAIN on 3682 [Loss: 0.0691  ACC: 0.9761]][VAL on 1228 [Loss: 0.2110  ACC: 0.9308]][TIME: 0 m 51 s] [LR: 0.00100]\n"
          ]
        },
        {
          "output_type": "stream",
          "name": "stderr",
          "text": [
            "Epoch 17/50 - Training: 100%|██████████| 116/116 [00:37<00:00,  3.08it/s]\n",
            "Epoch 17/50 - Validation: 100%|██████████| 39/39 [00:09<00:00,  4.18it/s]\n"
          ]
        },
        {
          "output_type": "stream",
          "name": "stdout",
          "text": [
            "[Epoch 17][TRAIN on 3682 [Loss: 0.0729  ACC: 0.9734]][VAL on 1228 [Loss: 0.1735  ACC: 0.9414]][TIME: 0 m 47 s] [LR: 0.00100]\n",
            "     .... Saving best weights ....\n"
          ]
        },
        {
          "output_type": "stream",
          "name": "stderr",
          "text": [
            "Epoch 18/50 - Training: 100%|██████████| 116/116 [00:37<00:00,  3.06it/s]\n",
            "Epoch 18/50 - Validation: 100%|██████████| 39/39 [00:09<00:00,  4.22it/s]\n"
          ]
        },
        {
          "output_type": "stream",
          "name": "stdout",
          "text": [
            "[Epoch 18][TRAIN on 3682 [Loss: 0.0584  ACC: 0.9772]][VAL on 1228 [Loss: 0.2311  ACC: 0.9406]][TIME: 0 m 47 s] [LR: 0.00100]\n"
          ]
        },
        {
          "output_type": "stream",
          "name": "stderr",
          "text": [
            "Epoch 19/50 - Training: 100%|██████████| 116/116 [00:37<00:00,  3.13it/s]\n",
            "Epoch 19/50 - Validation: 100%|██████████| 39/39 [00:09<00:00,  4.10it/s]\n"
          ]
        },
        {
          "output_type": "stream",
          "name": "stdout",
          "text": [
            "[Epoch 19][TRAIN on 3682 [Loss: 0.0624  ACC: 0.9750]][VAL on 1228 [Loss: 0.2288  ACC: 0.9365]][TIME: 0 m 47 s] [LR: 0.00100]\n"
          ]
        },
        {
          "output_type": "stream",
          "name": "stderr",
          "text": [
            "Epoch 20/50 - Training: 100%|██████████| 116/116 [00:37<00:00,  3.07it/s]\n",
            "Epoch 20/50 - Validation: 100%|██████████| 39/39 [00:09<00:00,  4.18it/s]\n"
          ]
        },
        {
          "output_type": "stream",
          "name": "stdout",
          "text": [
            "[Epoch 20][TRAIN on 3682 [Loss: 0.1090  ACC: 0.9606]][VAL on 1228 [Loss: 0.1913  ACC: 0.9259]][TIME: 0 m 47 s] [LR: 0.00100]\n"
          ]
        },
        {
          "output_type": "stream",
          "name": "stderr",
          "text": [
            "Epoch 21/50 - Training: 100%|██████████| 116/116 [00:38<00:00,  3.05it/s]\n",
            "Epoch 21/50 - Validation: 100%|██████████| 39/39 [00:10<00:00,  3.67it/s]\n"
          ]
        },
        {
          "output_type": "stream",
          "name": "stdout",
          "text": [
            "[Epoch 21][TRAIN on 3682 [Loss: 0.0744  ACC: 0.9720]][VAL on 1228 [Loss: 0.2061  ACC: 0.9438]][TIME: 0 m 49 s] [LR: 0.00100]\n",
            "     .... Saving best weights ....\n"
          ]
        },
        {
          "output_type": "stream",
          "name": "stderr",
          "text": [
            "Epoch 22/50 - Training: 100%|██████████| 116/116 [00:37<00:00,  3.07it/s]\n",
            "Epoch 22/50 - Validation: 100%|██████████| 39/39 [00:09<00:00,  4.20it/s]\n"
          ]
        },
        {
          "output_type": "stream",
          "name": "stdout",
          "text": [
            "[Epoch 22][TRAIN on 3682 [Loss: 0.0564  ACC: 0.9777]][VAL on 1228 [Loss: 0.2562  ACC: 0.9414]][TIME: 0 m 47 s] [LR: 0.00100]\n"
          ]
        },
        {
          "output_type": "stream",
          "name": "stderr",
          "text": [
            "Epoch 23/50 - Training: 100%|██████████| 116/116 [00:38<00:00,  3.02it/s]\n",
            "Epoch 23/50 - Validation: 100%|██████████| 39/39 [00:08<00:00,  4.36it/s]\n"
          ]
        },
        {
          "output_type": "stream",
          "name": "stdout",
          "text": [
            "[Epoch 23][TRAIN on 3682 [Loss: 0.0445  ACC: 0.9834]][VAL on 1228 [Loss: 0.2076  ACC: 0.9414]][TIME: 0 m 47 s] [LR: 0.00100]\n"
          ]
        },
        {
          "output_type": "stream",
          "name": "stderr",
          "text": [
            "Epoch 24/50 - Training: 100%|██████████| 116/116 [00:38<00:00,  3.04it/s]\n",
            "Epoch 24/50 - Validation: 100%|██████████| 39/39 [00:08<00:00,  4.66it/s]\n"
          ]
        },
        {
          "output_type": "stream",
          "name": "stdout",
          "text": [
            "[Epoch 24][TRAIN on 3682 [Loss: 0.0633  ACC: 0.9756]][VAL on 1228 [Loss: 0.2477  ACC: 0.9121]][TIME: 0 m 47 s] [LR: 0.00100]\n"
          ]
        },
        {
          "output_type": "stream",
          "name": "stderr",
          "text": [
            "Epoch 25/50 - Training: 100%|██████████| 116/116 [00:38<00:00,  2.98it/s]\n",
            "Epoch 25/50 - Validation: 100%|██████████| 39/39 [00:07<00:00,  5.09it/s]\n"
          ]
        },
        {
          "output_type": "stream",
          "name": "stdout",
          "text": [
            "[Epoch 25][TRAIN on 3682 [Loss: 0.0509  ACC: 0.9818]][VAL on 1228 [Loss: 0.2179  ACC: 0.9381]][TIME: 0 m 47 s] [LR: 0.00100]\n"
          ]
        },
        {
          "output_type": "stream",
          "name": "stderr",
          "text": [
            "Epoch 26/50 - Training: 100%|██████████| 116/116 [00:39<00:00,  2.93it/s]\n",
            "Epoch 26/50 - Validation: 100%|██████████| 39/39 [00:07<00:00,  5.34it/s]\n"
          ]
        },
        {
          "output_type": "stream",
          "name": "stdout",
          "text": [
            "[Epoch 26][TRAIN on 3682 [Loss: 0.0441  ACC: 0.9832]][VAL on 1228 [Loss: 0.2234  ACC: 0.9471]][TIME: 0 m 47 s] [LR: 0.00100]\n",
            "     .... Saving best weights ....\n"
          ]
        },
        {
          "output_type": "stream",
          "name": "stderr",
          "text": [
            "Epoch 27/50 - Training: 100%|██████████| 116/116 [00:41<00:00,  2.78it/s]\n",
            "Epoch 27/50 - Validation: 100%|██████████| 39/39 [00:07<00:00,  5.18it/s]\n"
          ]
        },
        {
          "output_type": "stream",
          "name": "stdout",
          "text": [
            "[Epoch 27][TRAIN on 3682 [Loss: 0.0454  ACC: 0.9840]][VAL on 1228 [Loss: 0.2229  ACC: 0.9357]][TIME: 0 m 49 s] [LR: 0.00100]\n"
          ]
        },
        {
          "output_type": "stream",
          "name": "stderr",
          "text": [
            "Epoch 28/50 - Training: 100%|██████████| 116/116 [00:39<00:00,  2.94it/s]\n",
            "Epoch 28/50 - Validation: 100%|██████████| 39/39 [00:07<00:00,  4.97it/s]\n"
          ]
        },
        {
          "output_type": "stream",
          "name": "stdout",
          "text": [
            "[Epoch 28][TRAIN on 3682 [Loss: 0.0924  ACC: 0.9677]][VAL on 1228 [Loss: 0.1916  ACC: 0.9406]][TIME: 0 m 47 s] [LR: 0.00100]\n"
          ]
        },
        {
          "output_type": "stream",
          "name": "stderr",
          "text": [
            "Epoch 29/50 - Training: 100%|██████████| 116/116 [00:39<00:00,  2.97it/s]\n",
            "Epoch 29/50 - Validation: 100%|██████████| 39/39 [00:08<00:00,  4.83it/s]\n"
          ]
        },
        {
          "output_type": "stream",
          "name": "stdout",
          "text": [
            "[Epoch 29][TRAIN on 3682 [Loss: 0.0515  ACC: 0.9815]][VAL on 1228 [Loss: 0.2285  ACC: 0.9422]][TIME: 0 m 47 s] [LR: 0.00100]\n"
          ]
        },
        {
          "output_type": "stream",
          "name": "stderr",
          "text": [
            "Epoch 30/50 - Training: 100%|██████████| 116/116 [00:38<00:00,  2.99it/s]\n",
            "Epoch 30/50 - Validation: 100%|██████████| 39/39 [00:08<00:00,  4.63it/s]\n"
          ]
        },
        {
          "output_type": "stream",
          "name": "stdout",
          "text": [
            "[Epoch 30][TRAIN on 3682 [Loss: 0.0428  ACC: 0.9823]][VAL on 1228 [Loss: 0.2408  ACC: 0.9422]][TIME: 0 m 47 s] [LR: 0.00100]\n"
          ]
        },
        {
          "output_type": "stream",
          "name": "stderr",
          "text": [
            "Epoch 31/50 - Training: 100%|██████████| 116/116 [00:38<00:00,  3.01it/s]\n",
            "Epoch 31/50 - Validation: 100%|██████████| 39/39 [00:08<00:00,  4.76it/s]\n"
          ]
        },
        {
          "output_type": "stream",
          "name": "stdout",
          "text": [
            "[Epoch 31][TRAIN on 3682 [Loss: 0.0451  ACC: 0.9821]][VAL on 1228 [Loss: 0.4052  ACC: 0.9308]][TIME: 0 m 47 s] [LR: 0.00100]\n"
          ]
        },
        {
          "output_type": "stream",
          "name": "stderr",
          "text": [
            "Epoch 32/50 - Training: 100%|██████████| 116/116 [00:38<00:00,  3.03it/s]\n",
            "Epoch 32/50 - Validation: 100%|██████████| 39/39 [00:08<00:00,  4.36it/s]\n"
          ]
        },
        {
          "output_type": "stream",
          "name": "stdout",
          "text": [
            "[Epoch 32][TRAIN on 3682 [Loss: 0.0668  ACC: 0.9734]][VAL on 1228 [Loss: 0.1771  ACC: 0.9454]][TIME: 0 m 47 s] [LR: 0.00100]\n"
          ]
        },
        {
          "output_type": "stream",
          "name": "stderr",
          "text": [
            "Epoch 33/50 - Training: 100%|██████████| 116/116 [00:39<00:00,  2.93it/s]\n",
            "Epoch 33/50 - Validation: 100%|██████████| 39/39 [00:08<00:00,  4.41it/s]\n"
          ]
        },
        {
          "output_type": "stream",
          "name": "stdout",
          "text": [
            "[Epoch 33][TRAIN on 3682 [Loss: 0.0402  ACC: 0.9853]][VAL on 1228 [Loss: 0.3309  ACC: 0.9104]][TIME: 0 m 48 s] [LR: 0.00100]\n"
          ]
        },
        {
          "output_type": "stream",
          "name": "stderr",
          "text": [
            "Epoch 34/50 - Training: 100%|██████████| 116/116 [00:37<00:00,  3.08it/s]\n",
            "Epoch 34/50 - Validation: 100%|██████████| 39/39 [00:09<00:00,  4.06it/s]\n"
          ]
        },
        {
          "output_type": "stream",
          "name": "stdout",
          "text": [
            "[Epoch 34][TRAIN on 3682 [Loss: 0.0665  ACC: 0.9750]][VAL on 1228 [Loss: 0.1778  ACC: 0.9528]][TIME: 0 m 47 s] [LR: 0.00100]\n",
            "     .... Saving best weights ....\n"
          ]
        },
        {
          "output_type": "stream",
          "name": "stderr",
          "text": [
            "Epoch 35/50 - Training: 100%|██████████| 116/116 [00:38<00:00,  3.03it/s]\n",
            "Epoch 35/50 - Validation: 100%|██████████| 39/39 [00:09<00:00,  4.10it/s]\n"
          ]
        },
        {
          "output_type": "stream",
          "name": "stdout",
          "text": [
            "[Epoch 35][TRAIN on 3682 [Loss: 0.0431  ACC: 0.9848]][VAL on 1228 [Loss: 0.2191  ACC: 0.9406]][TIME: 0 m 48 s] [LR: 0.00100]\n"
          ]
        },
        {
          "output_type": "stream",
          "name": "stderr",
          "text": [
            "Epoch 36/50 - Training: 100%|██████████| 116/116 [00:37<00:00,  3.10it/s]\n",
            "Epoch 36/50 - Validation: 100%|██████████| 39/39 [00:09<00:00,  4.16it/s]\n"
          ]
        },
        {
          "output_type": "stream",
          "name": "stdout",
          "text": [
            "[Epoch 36][TRAIN on 3682 [Loss: 0.0387  ACC: 0.9859]][VAL on 1228 [Loss: 0.3244  ACC: 0.9275]][TIME: 0 m 47 s] [LR: 0.00100]\n"
          ]
        },
        {
          "output_type": "stream",
          "name": "stderr",
          "text": [
            "Epoch 37/50 - Training: 100%|██████████| 116/116 [00:37<00:00,  3.10it/s]\n",
            "Epoch 37/50 - Validation: 100%|██████████| 39/39 [00:09<00:00,  4.23it/s]\n"
          ]
        },
        {
          "output_type": "stream",
          "name": "stdout",
          "text": [
            "[Epoch 37][TRAIN on 3682 [Loss: 0.0288  ACC: 0.9889]][VAL on 1228 [Loss: 0.2246  ACC: 0.9397]][TIME: 0 m 47 s] [LR: 0.00100]\n"
          ]
        },
        {
          "output_type": "stream",
          "name": "stderr",
          "text": [
            "Epoch 38/50 - Training: 100%|██████████| 116/116 [00:37<00:00,  3.09it/s]\n",
            "Epoch 38/50 - Validation: 100%|██████████| 39/39 [00:11<00:00,  3.48it/s]\n"
          ]
        },
        {
          "output_type": "stream",
          "name": "stdout",
          "text": [
            "[Epoch 38][TRAIN on 3682 [Loss: 0.0248  ACC: 0.9924]][VAL on 1228 [Loss: 0.2318  ACC: 0.9544]][TIME: 0 m 49 s] [LR: 0.00100]\n",
            "     .... Saving best weights ....\n"
          ]
        },
        {
          "output_type": "stream",
          "name": "stderr",
          "text": [
            "Epoch 39/50 - Training: 100%|██████████| 116/116 [00:37<00:00,  3.09it/s]\n",
            "Epoch 39/50 - Validation: 100%|██████████| 39/39 [00:09<00:00,  4.11it/s]\n"
          ]
        },
        {
          "output_type": "stream",
          "name": "stdout",
          "text": [
            "[Epoch 39][TRAIN on 3682 [Loss: 0.0530  ACC: 0.9796]][VAL on 1228 [Loss: 0.2719  ACC: 0.9332]][TIME: 0 m 47 s] [LR: 0.00100]\n"
          ]
        },
        {
          "output_type": "stream",
          "name": "stderr",
          "text": [
            "Epoch 40/50 - Training: 100%|██████████| 116/116 [00:37<00:00,  3.08it/s]\n",
            "Epoch 40/50 - Validation: 100%|██████████| 39/39 [00:09<00:00,  4.16it/s]\n"
          ]
        },
        {
          "output_type": "stream",
          "name": "stdout",
          "text": [
            "[Epoch 40][TRAIN on 3682 [Loss: 0.0392  ACC: 0.9867]][VAL on 1228 [Loss: 0.2837  ACC: 0.9137]][TIME: 0 m 47 s] [LR: 0.00100]\n"
          ]
        },
        {
          "output_type": "stream",
          "name": "stderr",
          "text": [
            "Epoch 41/50 - Training: 100%|██████████| 116/116 [00:37<00:00,  3.08it/s]\n",
            "Epoch 41/50 - Validation: 100%|██████████| 39/39 [00:09<00:00,  4.32it/s]\n"
          ]
        },
        {
          "output_type": "stream",
          "name": "stdout",
          "text": [
            "[Epoch 41][TRAIN on 3682 [Loss: 0.0956  ACC: 0.9641]][VAL on 1228 [Loss: 0.2061  ACC: 0.9414]][TIME: 0 m 47 s] [LR: 0.00100]\n"
          ]
        },
        {
          "output_type": "stream",
          "name": "stderr",
          "text": [
            "Epoch 42/50 - Training: 100%|██████████| 116/116 [00:37<00:00,  3.07it/s]\n",
            "Epoch 42/50 - Validation: 100%|██████████| 39/39 [00:08<00:00,  4.34it/s]\n"
          ]
        },
        {
          "output_type": "stream",
          "name": "stdout",
          "text": [
            "[Epoch 42][TRAIN on 3682 [Loss: 0.0478  ACC: 0.9810]][VAL on 1228 [Loss: 0.1905  ACC: 0.9446]][TIME: 0 m 47 s] [LR: 0.00100]\n"
          ]
        },
        {
          "output_type": "stream",
          "name": "stderr",
          "text": [
            "Epoch 43/50 - Training: 100%|██████████| 116/116 [00:37<00:00,  3.10it/s]\n",
            "Epoch 43/50 - Validation: 100%|██████████| 39/39 [00:09<00:00,  4.21it/s]\n"
          ]
        },
        {
          "output_type": "stream",
          "name": "stdout",
          "text": [
            "[Epoch 43][TRAIN on 3682 [Loss: 0.0405  ACC: 0.9851]][VAL on 1228 [Loss: 0.2125  ACC: 0.9422]][TIME: 0 m 47 s] [LR: 0.00100]\n"
          ]
        },
        {
          "output_type": "stream",
          "name": "stderr",
          "text": [
            "Epoch 44/50 - Training: 100%|██████████| 116/116 [00:39<00:00,  2.92it/s]\n",
            "Epoch 44/50 - Validation: 100%|██████████| 39/39 [00:08<00:00,  4.79it/s]\n"
          ]
        },
        {
          "output_type": "stream",
          "name": "stdout",
          "text": [
            "[Epoch 44][TRAIN on 3682 [Loss: 0.0265  ACC: 0.9910]][VAL on 1228 [Loss: 0.1902  ACC: 0.9471]][TIME: 0 m 48 s] [LR: 0.00100]\n"
          ]
        },
        {
          "output_type": "stream",
          "name": "stderr",
          "text": [
            "Epoch 45/50 - Training: 100%|██████████| 116/116 [00:39<00:00,  2.97it/s]\n",
            "Epoch 45/50 - Validation: 100%|██████████| 39/39 [00:07<00:00,  5.13it/s]\n"
          ]
        },
        {
          "output_type": "stream",
          "name": "stdout",
          "text": [
            "[Epoch 45][TRAIN on 3682 [Loss: 0.0298  ACC: 0.9886]][VAL on 1228 [Loss: 0.2236  ACC: 0.9503]][TIME: 0 m 47 s] [LR: 0.00100]\n"
          ]
        },
        {
          "output_type": "stream",
          "name": "stderr",
          "text": [
            "Epoch 46/50 - Training: 100%|██████████| 116/116 [00:39<00:00,  2.97it/s]\n",
            "Epoch 46/50 - Validation: 100%|██████████| 39/39 [00:07<00:00,  5.20it/s]\n"
          ]
        },
        {
          "output_type": "stream",
          "name": "stdout",
          "text": [
            "[Epoch 46][TRAIN on 3682 [Loss: 0.0308  ACC: 0.9894]][VAL on 1228 [Loss: 0.2179  ACC: 0.9357]][TIME: 0 m 47 s] [LR: 0.00100]\n"
          ]
        },
        {
          "output_type": "stream",
          "name": "stderr",
          "text": [
            "Epoch 47/50 - Training: 100%|██████████| 116/116 [00:38<00:00,  2.99it/s]\n",
            "Epoch 47/50 - Validation: 100%|██████████| 39/39 [00:07<00:00,  5.26it/s]\n"
          ]
        },
        {
          "output_type": "stream",
          "name": "stdout",
          "text": [
            "[Epoch 47][TRAIN on 3682 [Loss: 0.0372  ACC: 0.9872]][VAL on 1228 [Loss: 0.1902  ACC: 0.9422]][TIME: 0 m 46 s] [LR: 0.00100]\n"
          ]
        },
        {
          "output_type": "stream",
          "name": "stderr",
          "text": [
            "Epoch 48/50 - Training: 100%|██████████| 116/116 [00:40<00:00,  2.88it/s]\n",
            "Epoch 48/50 - Validation: 100%|██████████| 39/39 [00:07<00:00,  5.13it/s]\n"
          ]
        },
        {
          "output_type": "stream",
          "name": "stdout",
          "text": [
            "[Epoch 48][TRAIN on 3682 [Loss: 0.0261  ACC: 0.9910]][VAL on 1228 [Loss: 0.2935  ACC: 0.9104]][TIME: 0 m 48 s] [LR: 0.00100]\n"
          ]
        },
        {
          "output_type": "stream",
          "name": "stderr",
          "text": [
            "Epoch 49/50 - Training: 100%|██████████| 116/116 [00:40<00:00,  2.90it/s]\n",
            "Epoch 49/50 - Validation: 100%|██████████| 39/39 [00:07<00:00,  5.15it/s]\n"
          ]
        },
        {
          "output_type": "stream",
          "name": "stdout",
          "text": [
            "[Epoch 49][TRAIN on 3682 [Loss: 0.0892  ACC: 0.9661]][VAL on 1228 [Loss: 0.1480  ACC: 0.9536]][TIME: 0 m 48 s] [LR: 0.00100]\n"
          ]
        },
        {
          "output_type": "stream",
          "name": "stderr",
          "text": [
            "Epoch 50/50 - Training: 100%|██████████| 116/116 [00:41<00:00,  2.80it/s]\n",
            "Epoch 50/50 - Validation: 100%|██████████| 39/39 [00:08<00:00,  4.61it/s]"
          ]
        },
        {
          "output_type": "stream",
          "name": "stdout",
          "text": [
            "[Epoch 50][TRAIN on 3682 [Loss: 0.0338  ACC: 0.9867]][VAL on 1228 [Loss: 0.2047  ACC: 0.9389]][TIME: 0 m 50 s] [LR: 0.00100]\n"
          ]
        },
        {
          "output_type": "stream",
          "name": "stderr",
          "text": [
            "\n"
          ]
        }
      ],
      "source": [
        "# Call the training function with validation\n",
        "best_epoch = train_loop_validation(train_dataloader, val_dataloader, startEpoch, num_epochs, model_conv, criterionCNN, optimizer_conv, best_acc, best_loss, best_epoch, WEIGHTS_PATH)"
      ]
    },
    {
      "cell_type": "markdown",
      "metadata": {
        "id": "qHUATeFa4dSC"
      },
      "source": [
        "# Metrics Plot\n",
        "Visualization and analysis of performance metrics obtained during the training and validation process.\n",
        "Loss and accuracy values are read from previously saved text files, and the values are plotted in two separate graphs: one for loss and the other for accuracy. This section allows for the selection of hyperparameters for the subsequent final training."
      ]
    },
    {
      "cell_type": "code",
      "execution_count": null,
      "metadata": {
        "id": "bLwHLuUC4cYf",
        "colab": {
          "base_uri": "https://localhost:8080/"
        },
        "outputId": "acfec4c4-08a3-4966-eabb-cd8bf052b598"
      },
      "outputs": [
        {
          "output_type": "display_data",
          "data": {
            "text/plain": [
              "<Figure size 640x480 with 1 Axes>"
            ],
            "image/png": "[encoded data removed]"
          },
          "metadata": {}
        },
        {
          "output_type": "display_data",
          "data": {
            "text/plain": [
              "<Figure size 640x480 with 1 Axes>"
            ],
            "image/png": "[encoded data removed]"
          },
          "metadata": {}
        }
      ],
      "source": [
        "# Initialization of lists for losses and accuracies\n",
        "loss_model_train = []\n",
        "loss_model_val = []\n",
        "acc_model_train = []\n",
        "acc_model_val = []\n",
        "\n",
        "# Reading training loss files\n",
        "loss_train_path = os.path.join(WEIGHTS_PATH, 'lossTrain.txt')\n",
        "with open(loss_train_path, 'r') as file:\n",
        "    loss_model_train = [float(line.strip()) for line in file.readlines()]\n",
        "\n",
        "# Reading validation loss files\n",
        "loss_val_path = os.path.join(WEIGHTS_PATH, 'lossVal.txt')\n",
        "with open(loss_val_path, 'r') as file:\n",
        "    loss_model_val = [float(line.strip()) for line in file.readlines()]\n",
        "\n",
        "# Plotting training and validation losses\n",
        "plt.figure()\n",
        "plt.title(\"Model: Training Vs Validation Losses\")\n",
        "plt.xlabel('Epoch')\n",
        "plt.ylabel('Loss')\n",
        "plt.plot(range(1, len(loss_model_train) + 1), loss_model_train, color='r', label=\"Training Loss\")\n",
        "plt.plot(range(1, len(loss_model_val) + 1), loss_model_val, color='g', label=\"Validation Loss\")\n",
        "plt.legend()\n",
        "plt.savefig(os.path.join(WEIGHTS_PATH, 'LossTrainVal.png'))\n",
        "\n",
        "# Reading training accuracy files\n",
        "acc_train_path = os.path.join(WEIGHTS_PATH, 'AccTrain.txt')\n",
        "with open(acc_train_path, 'r') as file:\n",
        "    acc_model_train = [float(line.strip()) for line in file.readlines()]\n",
        "\n",
        "# Reading validation accuracy files\n",
        "acc_val_path = os.path.join(WEIGHTS_PATH, 'AccVal.txt')\n",
        "with open(acc_val_path, 'r') as file:\n",
        "    acc_model_val = [float(line.strip()) for line in file.readlines()]\n",
        "\n",
        "# Plotting training and validation accuracies\n",
        "plt.figure()\n",
        "plt.title(\"Training Vs Validation Accuracies\")\n",
        "plt.xlabel('Epoch')\n",
        "plt.ylabel('Accuracy')\n",
        "plt.plot(range(1, len(acc_model_train) + 1), acc_model_train, color='r', label=\"Training Accuracy\")\n",
        "plt.plot(range(1, len(acc_model_val) + 1), acc_model_val, color='g', label=\"Validation Accuracy\")\n",
        "plt.legend()\n",
        "plt.savefig(os.path.join(WEIGHTS_PATH, 'AccTrainVal.png'))"
      ]
    },
    {
      "cell_type": "markdown",
      "source": [
        "# Transformations and DataLoader (Full Dataset)\n",
        "Applying previously defined transformations to the entire dataset without splitting into train and validation."
      ],
      "metadata": {
        "id": "jPR-HAgOGkMY"
      }
    },
    {
      "cell_type": "code",
      "source": [
        "# Lambda function to check if the file ends with '.npy'\n",
        "is_valid_file = lambda path: path.endswith('.npy')\n",
        "\n",
        "# Creating the final dataset for training using My_DatasetFolder\n",
        "final_dataset = My_DatasetFolder(root=DATASET_PATH, transform=data_transforms['train'], is_valid_file=is_valid_file, list_classes=['benign', 'malignant'])\n",
        "\n",
        "# Creating the final DataLoader for training\n",
        "final_dataloader = DataLoader(final_dataset, batch_size=batch_size, shuffle=True, num_workers=1, pin_memory=True)"
      ],
      "metadata": {
        "id": "n0ZBVn9T3TGI"
      },
      "execution_count": null,
      "outputs": []
    },
    {
      "cell_type": "code",
      "source": [
        "# Printing the size of the dataset\n",
        "final_dataset_size = len(final_dataset)\n",
        "print(\"Dataset size:\", final_dataset_size)"
      ],
      "metadata": {
        "id": "-ojh1qbX3UP1",
        "colab": {
          "base_uri": "https://localhost:8080/"
        },
        "outputId": "48e5ba3a-230c-4f52-ad4a-7bad04a08960"
      },
      "execution_count": null,
      "outputs": [
        {
          "output_type": "stream",
          "name": "stdout",
          "text": [
            "Dimensione del dataset: 4910\n"
          ]
        }
      ]
    },
    {
      "cell_type": "markdown",
      "source": [
        "# Training (Full Dataset)\n",
        "Training using the entire available dataset. During training, model loss and accuracy metrics are calculated and monitored. Additionally, model weights are saved after each epoch to allow for resumption and monitoring of training in case of interruptions."
      ],
      "metadata": {
        "id": "fBgqMJiQU9eL"
      }
    },
    {
      "cell_type": "code",
      "source": [
        "def train_loop(train_dataloader, startEpoch, numEpochs, model_conv, criterionCNN, optimizer_conv, outputPath, scheduler=None):\n",
        "    \"\"\"\n",
        "    Trains a convolutional neural network model using the given data loader for training.\n",
        "\n",
        "    Parameters:\n",
        "    - train_dataloader (DataLoader): DataLoader for the training dataset.\n",
        "    - startEpoch (int): Starting epoch number.\n",
        "    - numEpochs (int): Total number of epochs for training.\n",
        "    - model_conv (torch.nn.Module): The convolutional neural network model.\n",
        "    - criterionCNN (torch.nn.Module): The loss function.\n",
        "    - optimizer_conv (torch.optim.Optimizer): The optimizer.\n",
        "    - outputPath (str): The directory path to save the trained model and logs.\n",
        "    - scheduler (torch.optim.lr_scheduler._LRScheduler, optional): Learning rate scheduler. Default is None.\n",
        "\n",
        "    Returns:\n",
        "    None\n",
        "    \"\"\"\n",
        "\n",
        "    for epoch in range(startEpoch, numEpochs + 1):\n",
        "        since = time.time()\n",
        "\n",
        "        modelLoss_train = 0.0\n",
        "        modelAcc_train = 0.0\n",
        "\n",
        "        model_conv.train()\n",
        "        totalSize = 0\n",
        "\n",
        "        # Total number of batches\n",
        "        total_batches = len(train_dataloader)\n",
        "\n",
        "        # Training loop\n",
        "        for batch_idx, (inputs, labels) in enumerate(tqdm(train_dataloader, total=total_batches)):\n",
        "            inputs = inputs.float().cuda()\n",
        "            labels = labels.view(-1, 1).float().cuda()                          # Convert labels to float and reshape\n",
        "\n",
        "            optimizer_conv.zero_grad()\n",
        "\n",
        "            outputs = model_conv(inputs)\n",
        "            lossCNN = criterionCNN(outputs, labels)\n",
        "            lossCNN.backward()\n",
        "            optimizer_conv.step()\n",
        "\n",
        "            modelLoss_train += lossCNN.item() * inputs.size(0)\n",
        "            totalSize += inputs.size(0)\n",
        "\n",
        "            # Apply sigmoid to outputs and round to get binary predictions\n",
        "            preds = torch.sigmoid(outputs).round()\n",
        "            modelAcc_train += torch.sum(preds == labels.data).item()\n",
        "\n",
        "        modelLoss_epoch_train = modelLoss_train / totalSize\n",
        "        modelAcc_epoch_train = modelAcc_train / totalSize\n",
        "\n",
        "        # Save weights after each epoch\n",
        "        torch.save(model_conv.state_dict(), outputPath + '/weights.pth'.format(epoch))\n",
        "\n",
        "        time_elapsed = time.time() - since\n",
        "\n",
        "        # Get the current learning rate\n",
        "        current_lr = optimizer_conv.param_groups[0]['lr']\n",
        "\n",
        "        print('[Epoch %d][TRAIN on %d [Loss: %.4f  ACC: %.4f]][TIME: %.0f m %.0f s] [LR: %.5f]'\n",
        "              % (epoch, totalSize, modelLoss_epoch_train, modelAcc_epoch_train, time_elapsed // 60, time_elapsed % 60, current_lr))\n",
        "\n",
        "        # Scheduler step\n",
        "        if scheduler:\n",
        "            scheduler.step(modelLoss_epoch_train)\n",
        "\n",
        "        # Logging losses and accuracies\n",
        "        with open(outputPath + '/lossTrain.txt', \"a\") as file_object:\n",
        "            file_object.write(str(modelLoss_epoch_train) + '\\n')\n",
        "\n",
        "        with open(outputPath + '/AccTrain.txt', \"a\") as file_object:\n",
        "            file_object.write(str(modelAcc_epoch_train) + '\\n')"
      ],
      "metadata": {
        "id": "AaDn6j4wGjW4"
      },
      "execution_count": null,
      "outputs": []
    },
    {
      "cell_type": "code",
      "source": [
        "# Updated hyperparameters\n",
        "learning_rate = 0.001                                                           # Learning rate for the optimizer\n",
        "num_epochs = 34                                                                 # Total number of epochs for training\n",
        "startEpoch = 1                                                                  # Initial epoch (useful for resuming interrupted training)\n",
        "best_acc = 0.0                                                                  # Initial best accuracy (to track the best model)\n",
        "best_loss = float('inf')                                                        # Initial best loss (to track the best model)\n",
        "\n",
        "# Redefinition of the model to avoid overwriting\n",
        "model_conv = models.resnet50(pretrained=True).cuda()  # Load the pretrained ResNet50 model and move it to the GPU\n",
        "\n",
        "# Replace the last layer for binary classification\n",
        "num_ftrs = model_conv.fc.in_features                                            # Number of output features from the second-to-last layer\n",
        "model_conv.fc = nn.Linear(num_ftrs, 1).cuda()                                   # Replace the last layer with an fc layer for binary classification\n",
        "\n",
        "# Freeze only the parameters of the first blocks of the model\n",
        "for name, param in model_conv.named_parameters():\n",
        "    if 'layer4' not in name and 'fc' not in name:                               # Freeze parameters of all layers except 'layer4' and 'fc'\n",
        "        param.requires_grad = False\n",
        "\n",
        "# Define criterion and optimizer\n",
        "criterionCNN = nn.BCEWithLogitsLoss().cuda()                                                                                  # Define the loss function for binary classification\n",
        "optimizer_conv = optim.Adam(filter(lambda p: p.requires_grad, model_conv.parameters()), lr=learning_rate)"
      ],
      "metadata": {
        "id": "q2xO-NkGVrzO"
      },
      "execution_count": null,
      "outputs": []
    },
    {
      "cell_type": "code",
      "source": [
        "if best_epoch > 0:\n",
        "    final_epochs = best_epoch\n",
        "else:\n",
        "    final_epochs = num_epochs\n",
        "\n",
        "train_loop(final_dataloader, startEpoch, final_epochs, model_conv, criterionCNN, optimizer_conv, FINAL_WEIGHTS_PATH)"
      ],
      "metadata": {
        "id": "fZO2xa_n2Vrw",
        "colab": {
          "base_uri": "https://localhost:8080/"
        },
        "outputId": "4de085d9-7f28-4341-d0e7-c280365fcbef"
      },
      "execution_count": null,
      "outputs": [
        {
          "output_type": "stream",
          "name": "stderr",
          "text": [
            "100%|██████████| 154/154 [43:59<00:00, 17.14s/it]\n"
          ]
        },
        {
          "output_type": "stream",
          "name": "stdout",
          "text": [
            "[Epoch 1][TRAIN on 4910 [Loss: 0.3150  ACC: 0.8782]][TIME: 44 m 12 s] [LR: 0.00100]\n"
          ]
        },
        {
          "output_type": "stream",
          "name": "stderr",
          "text": [
            "100%|██████████| 154/154 [00:57<00:00,  2.68it/s]\n"
          ]
        },
        {
          "output_type": "stream",
          "name": "stdout",
          "text": [
            "[Epoch 2][TRAIN on 4910 [Loss: 0.2206  ACC: 0.9141]][TIME: 0 m 58 s] [LR: 0.00100]\n"
          ]
        },
        {
          "output_type": "stream",
          "name": "stderr",
          "text": [
            "100%|██████████| 154/154 [00:56<00:00,  2.72it/s]\n"
          ]
        },
        {
          "output_type": "stream",
          "name": "stdout",
          "text": [
            "[Epoch 3][TRAIN on 4910 [Loss: 0.1892  ACC: 0.9214]][TIME: 0 m 57 s] [LR: 0.00100]\n"
          ]
        },
        {
          "output_type": "stream",
          "name": "stderr",
          "text": [
            "100%|██████████| 154/154 [00:56<00:00,  2.71it/s]\n"
          ]
        },
        {
          "output_type": "stream",
          "name": "stdout",
          "text": [
            "[Epoch 4][TRAIN on 4910 [Loss: 0.1775  ACC: 0.9299]][TIME: 0 m 57 s] [LR: 0.00100]\n"
          ]
        },
        {
          "output_type": "stream",
          "name": "stderr",
          "text": [
            "100%|██████████| 154/154 [00:56<00:00,  2.71it/s]\n"
          ]
        },
        {
          "output_type": "stream",
          "name": "stdout",
          "text": [
            "[Epoch 5][TRAIN on 4910 [Loss: 0.1501  ACC: 0.9462]][TIME: 0 m 57 s] [LR: 0.00100]\n"
          ]
        },
        {
          "output_type": "stream",
          "name": "stderr",
          "text": [
            "100%|██████████| 154/154 [00:58<00:00,  2.65it/s]\n"
          ]
        },
        {
          "output_type": "stream",
          "name": "stdout",
          "text": [
            "[Epoch 6][TRAIN on 4910 [Loss: 0.1348  ACC: 0.9481]][TIME: 0 m 59 s] [LR: 0.00100]\n"
          ]
        },
        {
          "output_type": "stream",
          "name": "stderr",
          "text": [
            "100%|██████████| 154/154 [00:57<00:00,  2.70it/s]\n"
          ]
        },
        {
          "output_type": "stream",
          "name": "stdout",
          "text": [
            "[Epoch 7][TRAIN on 4910 [Loss: 0.1278  ACC: 0.9505]][TIME: 0 m 57 s] [LR: 0.00100]\n"
          ]
        },
        {
          "output_type": "stream",
          "name": "stderr",
          "text": [
            "100%|██████████| 154/154 [00:56<00:00,  2.71it/s]\n"
          ]
        },
        {
          "output_type": "stream",
          "name": "stdout",
          "text": [
            "[Epoch 8][TRAIN on 4910 [Loss: 0.1171  ACC: 0.9560]][TIME: 0 m 57 s] [LR: 0.00100]\n"
          ]
        },
        {
          "output_type": "stream",
          "name": "stderr",
          "text": [
            "100%|██████████| 154/154 [00:56<00:00,  2.72it/s]\n"
          ]
        },
        {
          "output_type": "stream",
          "name": "stdout",
          "text": [
            "[Epoch 9][TRAIN on 4910 [Loss: 0.1018  ACC: 0.9625]][TIME: 0 m 57 s] [LR: 0.00100]\n"
          ]
        },
        {
          "output_type": "stream",
          "name": "stderr",
          "text": [
            "100%|██████████| 154/154 [00:56<00:00,  2.72it/s]\n"
          ]
        },
        {
          "output_type": "stream",
          "name": "stdout",
          "text": [
            "[Epoch 10][TRAIN on 4910 [Loss: 0.1030  ACC: 0.9558]][TIME: 0 m 57 s] [LR: 0.00100]\n"
          ]
        },
        {
          "output_type": "stream",
          "name": "stderr",
          "text": [
            "100%|██████████| 154/154 [00:57<00:00,  2.67it/s]\n"
          ]
        },
        {
          "output_type": "stream",
          "name": "stdout",
          "text": [
            "[Epoch 11][TRAIN on 4910 [Loss: 0.0929  ACC: 0.9664]][TIME: 0 m 58 s] [LR: 0.00100]\n"
          ]
        },
        {
          "output_type": "stream",
          "name": "stderr",
          "text": [
            "100%|██████████| 154/154 [00:56<00:00,  2.72it/s]\n"
          ]
        },
        {
          "output_type": "stream",
          "name": "stdout",
          "text": [
            "[Epoch 12][TRAIN on 4910 [Loss: 0.0870  ACC: 0.9682]][TIME: 0 m 57 s] [LR: 0.00100]\n"
          ]
        },
        {
          "output_type": "stream",
          "name": "stderr",
          "text": [
            "100%|██████████| 154/154 [00:56<00:00,  2.73it/s]\n"
          ]
        },
        {
          "output_type": "stream",
          "name": "stdout",
          "text": [
            "[Epoch 13][TRAIN on 4910 [Loss: 0.0789  ACC: 0.9697]][TIME: 0 m 57 s] [LR: 0.00100]\n"
          ]
        },
        {
          "output_type": "stream",
          "name": "stderr",
          "text": [
            "100%|██████████| 154/154 [00:56<00:00,  2.72it/s]\n"
          ]
        },
        {
          "output_type": "stream",
          "name": "stdout",
          "text": [
            "[Epoch 14][TRAIN on 4910 [Loss: 0.0886  ACC: 0.9650]][TIME: 0 m 57 s] [LR: 0.00100]\n"
          ]
        },
        {
          "output_type": "stream",
          "name": "stderr",
          "text": [
            "100%|██████████| 154/154 [00:57<00:00,  2.67it/s]\n"
          ]
        },
        {
          "output_type": "stream",
          "name": "stdout",
          "text": [
            "[Epoch 15][TRAIN on 4910 [Loss: 0.0736  ACC: 0.9727]][TIME: 0 m 58 s] [LR: 0.00100]\n"
          ]
        },
        {
          "output_type": "stream",
          "name": "stderr",
          "text": [
            "100%|██████████| 154/154 [00:56<00:00,  2.72it/s]\n"
          ]
        },
        {
          "output_type": "stream",
          "name": "stdout",
          "text": [
            "[Epoch 16][TRAIN on 4910 [Loss: 0.0690  ACC: 0.9731]][TIME: 0 m 57 s] [LR: 0.00100]\n"
          ]
        },
        {
          "output_type": "stream",
          "name": "stderr",
          "text": [
            "100%|██████████| 154/154 [00:56<00:00,  2.73it/s]\n"
          ]
        },
        {
          "output_type": "stream",
          "name": "stdout",
          "text": [
            "[Epoch 17][TRAIN on 4910 [Loss: 0.0743  ACC: 0.9697]][TIME: 0 m 57 s] [LR: 0.00100]\n"
          ]
        },
        {
          "output_type": "stream",
          "name": "stderr",
          "text": [
            "100%|██████████| 154/154 [00:57<00:00,  2.70it/s]\n"
          ]
        },
        {
          "output_type": "stream",
          "name": "stdout",
          "text": [
            "[Epoch 18][TRAIN on 4910 [Loss: 0.0596  ACC: 0.9788]][TIME: 0 m 57 s] [LR: 0.00100]\n"
          ]
        },
        {
          "output_type": "stream",
          "name": "stderr",
          "text": [
            "100%|██████████| 154/154 [00:56<00:00,  2.70it/s]\n"
          ]
        },
        {
          "output_type": "stream",
          "name": "stdout",
          "text": [
            "[Epoch 19][TRAIN on 4910 [Loss: 0.0552  ACC: 0.9786]][TIME: 0 m 57 s] [LR: 0.00100]\n"
          ]
        },
        {
          "output_type": "stream",
          "name": "stderr",
          "text": [
            "100%|██████████| 154/154 [01:01<00:00,  2.50it/s]\n"
          ]
        },
        {
          "output_type": "stream",
          "name": "stdout",
          "text": [
            "[Epoch 20][TRAIN on 4910 [Loss: 0.0673  ACC: 0.9754]][TIME: 1 m 2 s] [LR: 0.00100]\n"
          ]
        },
        {
          "output_type": "stream",
          "name": "stderr",
          "text": [
            "100%|██████████| 154/154 [00:57<00:00,  2.66it/s]\n"
          ]
        },
        {
          "output_type": "stream",
          "name": "stdout",
          "text": [
            "[Epoch 21][TRAIN on 4910 [Loss: 0.0562  ACC: 0.9798]][TIME: 0 m 58 s] [LR: 0.00100]\n"
          ]
        },
        {
          "output_type": "stream",
          "name": "stderr",
          "text": [
            "100%|██████████| 154/154 [00:57<00:00,  2.67it/s]\n"
          ]
        },
        {
          "output_type": "stream",
          "name": "stdout",
          "text": [
            "[Epoch 22][TRAIN on 4910 [Loss: 0.0611  ACC: 0.9766]][TIME: 0 m 58 s] [LR: 0.00100]\n"
          ]
        },
        {
          "output_type": "stream",
          "name": "stderr",
          "text": [
            "100%|██████████| 154/154 [00:58<00:00,  2.65it/s]\n"
          ]
        },
        {
          "output_type": "stream",
          "name": "stdout",
          "text": [
            "[Epoch 23][TRAIN on 4910 [Loss: 0.0491  ACC: 0.9817]][TIME: 0 m 58 s] [LR: 0.00100]\n"
          ]
        },
        {
          "output_type": "stream",
          "name": "stderr",
          "text": [
            "100%|██████████| 154/154 [00:59<00:00,  2.60it/s]\n"
          ]
        },
        {
          "output_type": "stream",
          "name": "stdout",
          "text": [
            "[Epoch 24][TRAIN on 4910 [Loss: 0.0494  ACC: 0.9811]][TIME: 0 m 60 s] [LR: 0.00100]\n"
          ]
        },
        {
          "output_type": "stream",
          "name": "stderr",
          "text": [
            "100%|██████████| 154/154 [00:57<00:00,  2.69it/s]\n"
          ]
        },
        {
          "output_type": "stream",
          "name": "stdout",
          "text": [
            "[Epoch 25][TRAIN on 4910 [Loss: 0.0551  ACC: 0.9800]][TIME: 0 m 58 s] [LR: 0.00100]\n"
          ]
        },
        {
          "output_type": "stream",
          "name": "stderr",
          "text": [
            "100%|██████████| 154/154 [00:57<00:00,  2.67it/s]\n"
          ]
        },
        {
          "output_type": "stream",
          "name": "stdout",
          "text": [
            "[Epoch 26][TRAIN on 4910 [Loss: 0.0504  ACC: 0.9821]][TIME: 0 m 58 s] [LR: 0.00100]\n"
          ]
        },
        {
          "output_type": "stream",
          "name": "stderr",
          "text": [
            "100%|██████████| 154/154 [00:57<00:00,  2.67it/s]\n"
          ]
        },
        {
          "output_type": "stream",
          "name": "stdout",
          "text": [
            "[Epoch 27][TRAIN on 4910 [Loss: 0.0426  ACC: 0.9833]][TIME: 0 m 58 s] [LR: 0.00100]\n"
          ]
        },
        {
          "output_type": "stream",
          "name": "stderr",
          "text": [
            "100%|██████████| 154/154 [00:59<00:00,  2.59it/s]\n"
          ]
        },
        {
          "output_type": "stream",
          "name": "stdout",
          "text": [
            "[Epoch 28][TRAIN on 4910 [Loss: 0.0411  ACC: 0.9841]][TIME: 0 m 60 s] [LR: 0.00100]\n"
          ]
        },
        {
          "output_type": "stream",
          "name": "stderr",
          "text": [
            "100%|██████████| 154/154 [00:58<00:00,  2.64it/s]\n"
          ]
        },
        {
          "output_type": "stream",
          "name": "stdout",
          "text": [
            "[Epoch 29][TRAIN on 4910 [Loss: 0.0408  ACC: 0.9849]][TIME: 0 m 59 s] [LR: 0.00100]\n"
          ]
        },
        {
          "output_type": "stream",
          "name": "stderr",
          "text": [
            "100%|██████████| 154/154 [00:58<00:00,  2.64it/s]\n"
          ]
        },
        {
          "output_type": "stream",
          "name": "stdout",
          "text": [
            "[Epoch 30][TRAIN on 4910 [Loss: 0.0372  ACC: 0.9864]][TIME: 0 m 59 s] [LR: 0.00100]\n"
          ]
        },
        {
          "output_type": "stream",
          "name": "stderr",
          "text": [
            "100%|██████████| 154/154 [00:57<00:00,  2.66it/s]\n"
          ]
        },
        {
          "output_type": "stream",
          "name": "stdout",
          "text": [
            "[Epoch 31][TRAIN on 4910 [Loss: 0.0452  ACC: 0.9831]][TIME: 0 m 58 s] [LR: 0.00100]\n"
          ]
        },
        {
          "output_type": "stream",
          "name": "stderr",
          "text": [
            "100%|██████████| 154/154 [00:58<00:00,  2.62it/s]\n"
          ]
        },
        {
          "output_type": "stream",
          "name": "stdout",
          "text": [
            "[Epoch 32][TRAIN on 4910 [Loss: 0.0382  ACC: 0.9845]][TIME: 0 m 59 s] [LR: 0.00100]\n"
          ]
        },
        {
          "output_type": "stream",
          "name": "stderr",
          "text": [
            "100%|██████████| 154/154 [01:00<00:00,  2.54it/s]\n"
          ]
        },
        {
          "output_type": "stream",
          "name": "stdout",
          "text": [
            "[Epoch 33][TRAIN on 4910 [Loss: 0.0340  ACC: 0.9857]][TIME: 1 m 1 s] [LR: 0.00100]\n"
          ]
        },
        {
          "output_type": "stream",
          "name": "stderr",
          "text": [
            "100%|██████████| 154/154 [00:59<00:00,  2.60it/s]\n"
          ]
        },
        {
          "output_type": "stream",
          "name": "stdout",
          "text": [
            "[Epoch 34][TRAIN on 4910 [Loss: 0.0366  ACC: 0.9872]][TIME: 0 m 60 s] [LR: 0.00100]\n"
          ]
        }
      ]
    },
    {
      "cell_type": "markdown",
      "source": [
        "# Test Preparation and CSV Creation\n",
        "This code defines a new class `My_TestFolder` to load test data from `.npy` files. Data is extracted from the specified path and transformed. Subsequently, test files are sorted based on a sorting criterion.\n",
        "Finally, predictions are made on the test data and the results are saved in a CSV file, including the image ID and the predicted class."
      ],
      "metadata": {
        "id": "vixSlGbxGpSS"
      }
    },
    {
      "cell_type": "code",
      "source": [
        "class My_TestFolder(Dataset):\n",
        "    def __init__(self, root, transform=None, is_valid_file=None):\n",
        "        self.root = root\n",
        "        self.transform = transform\n",
        "        self.is_valid_file = is_valid_file\n",
        "        self.samples = self.__get_samples()\n",
        "\n",
        "    def __len__(self):\n",
        "        return len(self.samples)\n",
        "\n",
        "    def __get_samples(self):\n",
        "        ListFiles = []\n",
        "        list_files = os.listdir(self.root)\n",
        "        for file_name in list_files:\n",
        "            if self.is_valid_file(os.path.join(self.root, file_name)):\n",
        "                ListFiles.append((os.path.join(self.root, file_name), 0))\n",
        "        return ListFiles\n",
        "\n",
        "    def loader_fc(self, path):\n",
        "        img = np.load(path)\n",
        "        return img\n",
        "\n",
        "    def __getitem__(self, index: int):\n",
        "        path, target = self.samples[index]\n",
        "        sample = self.loader_fc(path)\n",
        "        if self.transform is not None:\n",
        "            sample = self.transform(sample)\n",
        "        return sample, target"
      ],
      "metadata": {
        "id": "u3had1Dgykzc"
      },
      "execution_count": null,
      "outputs": []
    },
    {
      "cell_type": "code",
      "source": [
        "def extract_number_from_path(path):\n",
        "    \"\"\"\n",
        "    Extracts a number from a given file path using regular expressions.\n",
        "\n",
        "    Parameters:\n",
        "    - path (str): The file path from which the number is to be extracted.\n",
        "\n",
        "    Returns:\n",
        "    int or float: The extracted number if found, otherwise returns infinity.\n",
        "    \"\"\"\n",
        "\n",
        "    # Extract the number from the path using regular expression\n",
        "    match = re.search(r'/(\\d+)\\.npy$', path)\n",
        "    if match:\n",
        "        return int(match.group(1))\n",
        "    else:\n",
        "        return float('inf')  # Return infinity if no number is found\n",
        "\n",
        "def prepare_test_dataset(test_path, transform, is_valid_file, device):\n",
        "    \"\"\"\n",
        "    Prepares the test dataset by sorting the file paths based on the numbers present in each path.\n",
        "\n",
        "    Parameters:\n",
        "    - test_path (str): The path to the directory containing the test dataset.\n",
        "    - transform (callable): A function/transform to apply to each data sample.\n",
        "    - is_valid_file (callable or None, optional): A function to check if a file is a valid file.\n",
        "    - device: The device where the data will be loaded.\n",
        "\n",
        "    Returns:\n",
        "    list: A sorted list of file paths in the test dataset.\n",
        "    \"\"\"\n",
        "    test_data = My_TestFolder(root=test_path, transform=transform, is_valid_file=is_valid_file)\n",
        "\n",
        "    # Get the file paths instead of transformed data\n",
        "    test_file_paths = [sample[0] for sample in test_data.samples]\n",
        "\n",
        "    # Sort the file paths based on the number present in each path\n",
        "    test_file_paths_sorted = sorted(test_file_paths, key=extract_number_from_path)\n",
        "\n",
        "    return test_file_paths_sorted"
      ],
      "metadata": {
        "id": "e_oZaOFWymry"
      },
      "execution_count": null,
      "outputs": []
    },
    {
      "cell_type": "code",
      "source": [
        "is_valid_file = lambda path: path.endswith('.npy')\n",
        "test_file_paths = prepare_test_dataset(TEST_PATH, data_transforms['val'], is_valid_file, device)"
      ],
      "metadata": {
        "id": "KqoEWKP2yqJG"
      },
      "execution_count": null,
      "outputs": []
    },
    {
      "cell_type": "code",
      "source": [
        "def predict_and_save(model, model_weights_path, test_file_paths, transform, output_csv, device):\n",
        "    \"\"\"\n",
        "    Predicts the classes for images in the test dataset using the provided model and saves the results to a CSV file.\n",
        "\n",
        "    Parameters:\n",
        "    - model (torch.nn.Module): The trained model for prediction.\n",
        "    - model_weights_path (str): The file path to the saved model weights.\n",
        "    - test_file_paths (list): A list of file paths to the test images.\n",
        "    - transform (callable): A function/transform to apply to each data sample.\n",
        "    - output_csv (str): The file path to save the predicted results in CSV format.\n",
        "    - device: The device where the data will be loaded.\n",
        "\n",
        "    Returns:\n",
        "    None\n",
        "    \"\"\"\n",
        "\n",
        "    # Load model weights and convert them to FloatTensor\n",
        "    model.load_state_dict(torch.load(model_weights_path, map_location=device))\n",
        "    model.to(device)\n",
        "    model.eval()\n",
        "\n",
        "    # Sigmoid function\n",
        "    sigmoid = nn.Sigmoid()\n",
        "\n",
        "    results = []\n",
        "\n",
        "    # Use tqdm to monitor progress\n",
        "    with tqdm(total=len(test_file_paths), desc='Predicting') as pbar:\n",
        "        # For each image in the test set\n",
        "        for img_path in test_file_paths:\n",
        "            # Load image from file path\n",
        "            img = np.load(img_path)\n",
        "\n",
        "            # Apply transformations\n",
        "            img_tensor = transform(img).float().to(device)                      # Apply transformations directly\n",
        "\n",
        "            # Check the dimension order and fix if necessary\n",
        "            if img_tensor.shape[0] != 3:\n",
        "                img_tensor = img_tensor.permute(2, 0, 1)                        # Make sure the dimension order is (C, H, W)\n",
        "\n",
        "            with torch.no_grad():\n",
        "                pred = model(img_tensor.unsqueeze(0))                           # Add initial dimension for batch\n",
        "                prob = sigmoid(pred)\n",
        "\n",
        "            # Get the predicted class\n",
        "            predicted_class = 'malignant' if prob.item() > 0.5 else 'benign'\n",
        "\n",
        "            # Get the ID from the image\n",
        "            img_name = os.path.basename(img_path)\n",
        "            img_id, _ = os.path.splitext(img_name)\n",
        "\n",
        "            # Save the result\n",
        "            results.append((img_id + '.npy', predicted_class))\n",
        "\n",
        "            # Update the progress bar\n",
        "            pbar.update(1)\n",
        "\n",
        "    # Create a DataFrame\n",
        "    df = pd.DataFrame(results, columns=['ID', 'Class'])\n",
        "\n",
        "    # Save the DataFrame to the CSV file overwriting the existing file, if present\n",
        "    df.to_csv(output_csv, index=False, mode='w')"
      ],
      "metadata": {
        "id": "137_n96SNxtt"
      },
      "execution_count": null,
      "outputs": []
    },
    {
      "cell_type": "code",
      "source": [
        "predict_and_save(model_conv, FINAL_WEIGHTS_PATH + '/weights.pth', test_file_paths, data_transforms['val'], DATA_PATH + '/final_prediction.csv', device)"
      ],
      "metadata": {
        "id": "4v991usTZIlO",
        "colab": {
          "base_uri": "https://localhost:8080/"
        },
        "outputId": "8414e4ed-532c-4a7c-dd5b-287aa7d3e86d"
      },
      "execution_count": null,
      "outputs": [
        {
          "output_type": "stream",
          "name": "stderr",
          "text": [
            "Predicting: 100%|██████████| 1308/1308 [00:54<00:00, 23.78it/s]\n"
          ]
        }
      ]
    }
  ],
  "metadata": {
    "accelerator": "GPU",
    "colab": {
      "collapsed_sections": [
        "xkD46W9C4wyt",
        "o24JpwueTm7J",
        "Mu9qDOUQVXAx",
        "-ahKqZ-Kyfc1",
        "FxcwDV5sUl1i",
        "eVRyLlv4UE62",
        "C38u4Yht8M5Q",
        "RRfbXMRSEZzR",
        "pcROCwoMfeKM",
        "mrqChSDvh1qg",
        "jPR-HAgOGkMY"
      ],
      "gpuType": "T4",
      "provenance": []
    },
    "kernelspec": {
      "display_name": "Python 3",
      "name": "python3"
    },
    "language_info": {
      "name": "python"
    }
  },
  "nbformat": 4,
  "nbformat_minor": 0
}